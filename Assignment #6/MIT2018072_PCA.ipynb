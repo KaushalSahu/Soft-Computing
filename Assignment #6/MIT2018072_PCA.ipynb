{
 "cells": [
  {
   "cell_type": "code",
   "execution_count": 1,
   "metadata": {},
   "outputs": [
    {
     "name": "stdout",
     "output_type": "stream",
     "text": [
      "150 125\n",
      "[[ 13  28  53 ... 220 163 197]\n",
      " [ 20  34  67 ... 217 160 188]\n",
      " [ 27  39  53 ... 224 149 193]\n",
      " ...\n",
      " [174 107   6 ... 197 106  69]\n",
      " [126 220   5 ... 237 123  72]\n",
      " [128 254   6 ... 252 123  75]]\n",
      "train_img.shape= 18750 16\n",
      "The average face vector is [[136.5625]\n",
      " [141.625 ]\n",
      " [148.375 ]\n",
      " ...\n",
      " [ 90.0625]\n",
      " [ 94.1875]\n",
      " [ 98.8125]]\n",
      "img_train.shape= (16, 18750)\n"
     ]
    }
   ],
   "source": [
    "import numpy as np\n",
    "import imageio\n",
    "import matplotlib.pyplot as plt\n",
    "imagelist=['amy1.png','amy2.png','andrew1.png','andrew2.png','andy1.png','andy2.png','erin1.png','erin2.png','gabe1.png','gabe2.png','hill2.png','hill4.png','jack1.png','jack2.png','zach1.png','zach2.png']\n",
    "\n",
    "train_img=[]\n",
    "for file in imagelist:\n",
    "    first=np.array(imageio.imread('Train/'+file))\n",
    "    m,n=first.shape\n",
    "    first=np.reshape(first,(m*n,1))\n",
    "    train_img.append(first)\n",
    "\n",
    "print(m,n)\n",
    "img_train=np.matrix(np.array(train_img))\n",
    "train_img=np.transpose(img_train)\n",
    "print(train_img)\n",
    "m,n=train_img.shape\n",
    "print(\"train_img.shape=\",m,n)\n",
    "\n",
    "##calculating average face vector\n",
    "avgface=np.ones((m,1))\n",
    "for i in range(0,m):\n",
    "    avgface[i]=np.mean(train_img[i])\n",
    "print(\"The average face vector is\",avgface)\n",
    "\n",
    "##subtracting average face vector from all faces\n",
    "for i in range(0,n):\n",
    "    img_train[i]=img_train[i]-np.transpose(avgface)\n",
    "print(\"img_train.shape=\",img_train.shape)"
   ]
  },
  {
   "cell_type": "code",
   "execution_count": 2,
   "metadata": {},
   "outputs": [
    {
     "name": "stdout",
     "output_type": "stream",
     "text": [
      "The covariance matrix is\n",
      "U matrix is\n",
      "eigen values are\n",
      "[1995.62534091  526.36200377 -542.47656392  373.80570775  347.28470427\n",
      " -417.50588552  201.4544505  -331.93452424  151.97472555  113.09965382\n",
      " -239.98114411 -231.20841688 -152.34066293 -122.26041606  -61.63484033\n",
      "    2.73586741]\n",
      "5811.684907963562\n",
      "selected value of k is 13\n",
      "(18750, 13)\n",
      "(13, 16)\n"
     ]
    }
   ],
   "source": [
    "##calculating covariance matrix\n",
    "covmat=(img_train*np.transpose(img_train))\n",
    "print(\"The covariance matrix is\")\n",
    "#print(covmat)\n",
    "\n",
    "##calculating eigen values out of covariance matrix\n",
    "eigen,u=np.linalg.eig(covmat)\n",
    "print(\"U matrix is\")\n",
    "#print(v)\n",
    "print(\"eigen values are\")\n",
    "print(eigen)\n",
    "\n",
    "a,s,v=np.linalg.svd(covmat)\n",
    "\n",
    "##determining value of k i.e.(no. of principal components)\n",
    "summation=np.sum(s)\n",
    "print(summation)\n",
    "for k in range(1,len(s)):\n",
    "    sigma=0\n",
    "    for i in range(0,k):\n",
    "        sigma+=s[i]\n",
    "    sigma=sigma/summation\n",
    "    if(sigma>=0.95):\n",
    "        print(\"selected value of k is\",k)\n",
    "        break\n",
    "\n",
    "##selecting k eigen vectors from the set of 16 vectors\n",
    "eigenvectors=np.empty((k,16))\n",
    "for i in range(0,k):\n",
    "    temp=np.empty((1,16))\n",
    "    for j in range(0,16):\n",
    "        temp[0,j]=u[i,j]\n",
    "    eigenvectors[i]=temp\n",
    "\n",
    "#print(\"selected eigen vectors are\",eigenvectors)\n",
    "\n",
    "##mapping selected eigen vectors to original image size in training set\n",
    "mappedeigenvectors=train_img*np.transpose(eigenvectors)\n",
    "print(mappedeigenvectors.shape)\n",
    "\n",
    "weightmatrix=np.transpose(mappedeigenvectors)*np.transpose(img_train)\n",
    "print(weightmatrix.shape)"
   ]
  },
  {
   "cell_type": "code",
   "execution_count": 7,
   "metadata": {},
   "outputs": [
    {
     "name": "stdout",
     "output_type": "stream",
     "text": [
      "1034846197.1692574\n",
      "1049734703.4585977\n",
      "1114152431.979243\n",
      "1098714420.737404\n",
      "1001741130.8851489\n",
      "989622349.4768381\n",
      "1043852228.78924\n",
      "1039275674.8880974\n",
      "986572867.3525797\n",
      "1055901124.010789\n",
      "1125874939.427601\n",
      "1137277241.9784276\n",
      "1055543146.9498239\n",
      "1025398164.5820712\n",
      "1133862352.0183012\n",
      "1115835299.417882\n",
      "Minimum Distance =  986572867.3525797\n"
     ]
    }
   ],
   "source": [
    "###Testing unknown face\n",
    "image=imageio.imread('Test/gabe3.png')\n",
    "m,n=image.shape\n",
    "image=np.reshape(image,(m*n,1))\n",
    "normalisedface=image-avgface\n",
    "#print(normalisedface.shape)\n",
    "\n",
    "testweight=np.transpose(mappedeigenvectors)*normalisedface\n",
    "#print(testweight.shape)\n",
    "transposeweightmatrix=np.transpose(weightmatrix)\n",
    "m,n=transposeweightmatrix.shape\n",
    "flag=0\n",
    "store=[]\n",
    "for i in range(0,m):\n",
    "    difference=transposeweightmatrix[i]-np.transpose(testweight)\n",
    "    totaldiff=np.sum(np.power(difference,2))\n",
    "    totaldiff=np.sqrt(totaldiff)\n",
    "    print(totaldiff)\n",
    "    store.append(totaldiff)\n",
    "a=min(store)\n",
    "\n",
    "print(\"Minimum Distance = \",a)"
   ]
  },
  {
   "cell_type": "code",
   "execution_count": null,
   "metadata": {},
   "outputs": [],
   "source": []
  }
 ],
 "metadata": {
  "kernelspec": {
   "display_name": "Python 3",
   "language": "python",
   "name": "python3"
  },
  "language_info": {
   "codemirror_mode": {
    "name": "ipython",
    "version": 3
   },
   "file_extension": ".py",
   "mimetype": "text/x-python",
   "name": "python",
   "nbconvert_exporter": "python",
   "pygments_lexer": "ipython3",
   "version": "3.7.1"
  }
 },
 "nbformat": 4,
 "nbformat_minor": 2
}
