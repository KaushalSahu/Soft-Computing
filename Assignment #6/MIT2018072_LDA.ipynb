{
 "cells": [
  {
   "cell_type": "code",
   "execution_count": 1,
   "metadata": {},
   "outputs": [
    {
     "name": "stdout",
     "output_type": "stream",
     "text": [
      "18750\n",
      "[[ 28  22  13 ... 220 163 197]\n",
      " [ 38  20  20 ... 217 160 188]\n",
      " [ 38  26  27 ... 224 149 193]\n",
      " ...\n",
      " [ 14  15 174 ... 197 106  69]\n",
      " [  9  22 126 ... 237 123  72]\n",
      " [ 20  20 128 ... 252 123  75]]\n",
      "train_img.shape= 18750 18\n",
      "The average face vector is [[124.16666667]\n",
      " [129.11111111]\n",
      " [135.44444444]\n",
      " ...\n",
      " [ 81.66666667]\n",
      " [ 85.44444444]\n",
      " [ 90.05555556]]\n",
      "img_train.shape= (18, 18750)\n",
      "[[135 136 127 ... 175 165 166]\n",
      " [129 118 115 ... 176 178 166]\n",
      " [120 118 116 ...  78  25  17]\n",
      " ...\n",
      " [124 121 112 ... 194 200 177]\n",
      " [ 67  64  37 ... 103  86  48]\n",
      " [148 140 142 ... 157 146 142]]\n"
     ]
    }
   ],
   "source": [
    "import numpy as np\n",
    "import imageio\n",
    "import matplotlib.pyplot as plt\n",
    "imagelist=['amber1.png','amber2.png','amy1.png','amy2.png','andrew1.png','andrew2.png','andy1.png','andy2.png','erin1.png','erin2.png','gabe1.png','gabe2.png','hill2.png','hill4.png','jack1.png','jack2.png','zach1.png','zach2.png']\n",
    "\n",
    "train_img=[]\n",
    "for file in imagelist:\n",
    "    first=np.array(imageio.imread('Train/'+file))\n",
    "    m,n=first.shape\n",
    "    first=np.reshape(first,(m*n,1))\n",
    "    train_img.append(first)\n",
    "\n",
    "pixelsize=m*n\n",
    "print(pixelsize)\n",
    "img_train=np.matrix(np.array(train_img))\n",
    "train_img=np.transpose(img_train)\n",
    "print(train_img)\n",
    "m,n=train_img.shape\n",
    "print(\"train_img.shape=\",m,n)\n",
    "\n",
    "##calculating average face vector\n",
    "avgface=np.ones((m,1))\n",
    "for i in range(0,m):\n",
    "    avgface[i]=np.mean(train_img[i])\n",
    "print(\"The average face vector is\",avgface)\n",
    "\n",
    "##calculating average face vector for each class\n",
    "classavgface=np.ones((pixelsize,9))\n",
    "for j in range(0,9):\n",
    "    for i in range(0,pixelsize):\n",
    "        classavgface[i][j]=(int)((train_img[i,2*j]/2+train_img[i,2*j+1]/2))\n",
    "transclassavg=np.transpose(classavgface)\n",
    "storedtransclassavg=transclassavg\n",
    "    \n",
    "##subtracting average face vector from all faces\n",
    "for i in range(0,n):\n",
    "    img_train[i]=img_train[i]-np.transpose(avgface)\n",
    "print(\"img_train.shape=\",img_train.shape)\n",
    "\n",
    "##subtracting average class face vector from each of the vector\n",
    "j=0\n",
    "for i in range(0,n):\n",
    "    img_train[i]=img_train[i]-transclassavg[j]\n",
    "    if(i%2==0 and i!=0):\n",
    "        j+=1\n",
    "print(img_train)\n",
    "\n",
    "##subtracting total average face vector from class average face vector\n",
    "for i in range(0,9):\n",
    "    transclassavg[i]=transclassavg[i]-np.transpose(avgface)\n",
    "\n",
    "##calculating between class scatter matrix\n",
    "sbetweenclass=0\n",
    "for i in range(0,9):\n",
    "    sbetweenclass+=np.transpose(transclassavg[0])*transclassavg[0]\n",
    "sbetweenclass=sbetweenclass*2"
   ]
  },
  {
   "cell_type": "code",
   "execution_count": 2,
   "metadata": {},
   "outputs": [
    {
     "name": "stdout",
     "output_type": "stream",
     "text": [
      "[[135]\n",
      " [136]\n",
      " [127]\n",
      " ...\n",
      " [175]\n",
      " [165]\n",
      " [166]]\n",
      "[[209 144 176 ...  79 136  25]\n",
      " [144 193 176 ... 158 168  77]\n",
      " [176 176   0 ... 240   0  32]\n",
      " ...\n",
      " [ 79 158 240 ... 213 168 125]\n",
      " [136 168   0 ... 168 128  80]\n",
      " [ 25  77  32 ... 125  80 106]]\n"
     ]
    }
   ],
   "source": [
    "##building scatter matrices\n",
    "print(np.transpose(img_train[0]))\n",
    "s1=np.transpose(img_train[0])*img_train[0]+np.transpose(img_train[1])*img_train[1]\n",
    "s2=np.transpose(img_train[2])*img_train[2]+np.transpose(img_train[3])*img_train[3]\n",
    "s3=np.transpose(img_train[4])*img_train[4]+np.transpose(img_train[5])*img_train[5]\n",
    "s4=np.transpose(img_train[6])*img_train[6]+np.transpose(img_train[7])*img_train[7]\n",
    "s5=np.transpose(img_train[8])*img_train[8]+np.transpose(img_train[9])*img_train[9]\n",
    "s6=np.transpose(img_train[10])*img_train[10]+np.transpose(img_train[11])*img_train[11]\n",
    "s7=np.transpose(img_train[12])*img_train[12]+np.transpose(img_train[13])*img_train[13]\n",
    "s8=np.transpose(img_train[14])*img_train[14]+np.transpose(img_train[15])*img_train[15]\n",
    "s9=np.transpose(img_train[16])*img_train[16]+np.transpose(img_train[17])*img_train[17]\n",
    "print(s8)"
   ]
  },
  {
   "cell_type": "code",
   "execution_count": 3,
   "metadata": {},
   "outputs": [],
   "source": [
    "##calculating within class scatter matrix\n",
    "swithinclass=s1+s2+s3+s4+s5+s6+s7+s8+s9"
   ]
  },
  {
   "cell_type": "code",
   "execution_count": 4,
   "metadata": {},
   "outputs": [
    {
     "ename": "MemoryError",
     "evalue": "",
     "output_type": "error",
     "traceback": [
      "\u001b[0;31m---------------------------------------------------------------------------\u001b[0m",
      "\u001b[0;31mMemoryError\u001b[0m                               Traceback (most recent call last)",
      "\u001b[0;32m<ipython-input-4-43dad4e2949e>\u001b[0m in \u001b[0;36m<module>\u001b[0;34m\u001b[0m\n\u001b[1;32m      1\u001b[0m \u001b[0;31m##columns of weightmatrix are eigenvectors\u001b[0m\u001b[0;34m\u001b[0m\u001b[0;34m\u001b[0m\u001b[0;34m\u001b[0m\u001b[0m\n\u001b[0;32m----> 2\u001b[0;31m \u001b[0meigenvectors\u001b[0m\u001b[0;34m=\u001b[0m\u001b[0mnp\u001b[0m\u001b[0;34m.\u001b[0m\u001b[0mlinalg\u001b[0m\u001b[0;34m.\u001b[0m\u001b[0minv\u001b[0m\u001b[0;34m(\u001b[0m\u001b[0mswithinclass\u001b[0m\u001b[0;34m)\u001b[0m\u001b[0;34m*\u001b[0m\u001b[0msbetweenclass\u001b[0m\u001b[0;34m\u001b[0m\u001b[0;34m\u001b[0m\u001b[0m\n\u001b[0m\u001b[1;32m      3\u001b[0m \u001b[0;34m\u001b[0m\u001b[0m\n\u001b[1;32m      4\u001b[0m \u001b[0;31m##projecting images onto the lda space\u001b[0m\u001b[0;34m\u001b[0m\u001b[0;34m\u001b[0m\u001b[0;34m\u001b[0m\u001b[0m\n\u001b[1;32m      5\u001b[0m \u001b[0mprojectedmatrix\u001b[0m\u001b[0;34m=\u001b[0m\u001b[0mnp\u001b[0m\u001b[0;34m.\u001b[0m\u001b[0mtranspose\u001b[0m\u001b[0;34m(\u001b[0m\u001b[0meigenvectors\u001b[0m\u001b[0;34m)\u001b[0m\u001b[0;34m*\u001b[0m\u001b[0mclassavgface\u001b[0m\u001b[0;34m\u001b[0m\u001b[0;34m\u001b[0m\u001b[0m\n",
      "\u001b[0;32m~/anaconda3/lib/python3.7/site-packages/numpy/linalg/linalg.py\u001b[0m in \u001b[0;36minv\u001b[0;34m(a)\u001b[0m\n\u001b[1;32m    530\u001b[0m     \u001b[0msignature\u001b[0m \u001b[0;34m=\u001b[0m \u001b[0;34m'D->D'\u001b[0m \u001b[0;32mif\u001b[0m \u001b[0misComplexType\u001b[0m\u001b[0;34m(\u001b[0m\u001b[0mt\u001b[0m\u001b[0;34m)\u001b[0m \u001b[0;32melse\u001b[0m \u001b[0;34m'd->d'\u001b[0m\u001b[0;34m\u001b[0m\u001b[0;34m\u001b[0m\u001b[0m\n\u001b[1;32m    531\u001b[0m     \u001b[0mextobj\u001b[0m \u001b[0;34m=\u001b[0m \u001b[0mget_linalg_error_extobj\u001b[0m\u001b[0;34m(\u001b[0m\u001b[0m_raise_linalgerror_singular\u001b[0m\u001b[0;34m)\u001b[0m\u001b[0;34m\u001b[0m\u001b[0;34m\u001b[0m\u001b[0m\n\u001b[0;32m--> 532\u001b[0;31m     \u001b[0mainv\u001b[0m \u001b[0;34m=\u001b[0m \u001b[0m_umath_linalg\u001b[0m\u001b[0;34m.\u001b[0m\u001b[0minv\u001b[0m\u001b[0;34m(\u001b[0m\u001b[0ma\u001b[0m\u001b[0;34m,\u001b[0m \u001b[0msignature\u001b[0m\u001b[0;34m=\u001b[0m\u001b[0msignature\u001b[0m\u001b[0;34m,\u001b[0m \u001b[0mextobj\u001b[0m\u001b[0;34m=\u001b[0m\u001b[0mextobj\u001b[0m\u001b[0;34m)\u001b[0m\u001b[0;34m\u001b[0m\u001b[0;34m\u001b[0m\u001b[0m\n\u001b[0m\u001b[1;32m    533\u001b[0m     \u001b[0;32mreturn\u001b[0m \u001b[0mwrap\u001b[0m\u001b[0;34m(\u001b[0m\u001b[0mainv\u001b[0m\u001b[0;34m.\u001b[0m\u001b[0mastype\u001b[0m\u001b[0;34m(\u001b[0m\u001b[0mresult_t\u001b[0m\u001b[0;34m,\u001b[0m \u001b[0mcopy\u001b[0m\u001b[0;34m=\u001b[0m\u001b[0;32mFalse\u001b[0m\u001b[0;34m)\u001b[0m\u001b[0;34m)\u001b[0m\u001b[0;34m\u001b[0m\u001b[0;34m\u001b[0m\u001b[0m\n\u001b[1;32m    534\u001b[0m \u001b[0;34m\u001b[0m\u001b[0m\n",
      "\u001b[0;31mMemoryError\u001b[0m: "
     ]
    }
   ],
   "source": [
    "##columns of weightmatrix are eigenvectors\n",
    "eigenvectors=np.linalg.inv(swithinclass)*sbetweenclass\n",
    "\n",
    "##projecting images onto the lda space\n",
    "projectedmatrix=np.transpose(eigenvectors)*classavgface\n",
    "\n",
    "\n",
    "###Testing unknown face\n",
    "image=imageio.imread('Test/andrew3.png')\n",
    "m,n=image.shape\n",
    "image=np.reshape(image,(m*n,1))\n",
    "normalisedface=image-avgface\n",
    "projectedtestimage=np.transpose(eigenvectors)*normalisedface"
   ]
  },
  {
   "cell_type": "code",
   "execution_count": null,
   "metadata": {},
   "outputs": [],
   "source": []
  },
  {
   "cell_type": "code",
   "execution_count": null,
   "metadata": {},
   "outputs": [],
   "source": []
  }
 ],
 "metadata": {
  "kernelspec": {
   "display_name": "Python 3",
   "language": "python",
   "name": "python3"
  },
  "language_info": {
   "codemirror_mode": {
    "name": "ipython",
    "version": 3
   },
   "file_extension": ".py",
   "mimetype": "text/x-python",
   "name": "python",
   "nbconvert_exporter": "python",
   "pygments_lexer": "ipython3",
   "version": "3.7.1"
  }
 },
 "nbformat": 4,
 "nbformat_minor": 2
}
