{
 "cells": [
  {
   "cell_type": "code",
   "execution_count": 12,
   "metadata": {},
   "outputs": [],
   "source": [
    "import numpy as np\n",
    "import pandas as pd\n",
    "import matplotlib.pyplot as plt\n",
    "\n",
    "df = pd.read_csv(\"exam.csv\",header=None)\n",
    "#print(df)\n",
    "\n",
    "X=df[[0,1]].values\n",
    "Y=df[2].values\n",
    "X=(X-np.mean(X))/np.std(X)\n",
    "Y=Y-np.mean(Y)/np.std(Y)"
   ]
  },
  {
   "cell_type": "code",
   "execution_count": 22,
   "metadata": {},
   "outputs": [],
   "source": [
    "ones=np.ones([Y.size,1])\n",
    "X=np.concatenate((ones,X),axis=1)\n",
    "x_train,x_test,y_train,y_test=train_test_split(X,Y,random_state,test_size=.3)\n",
    "theta=np.matrix(np.zeros(3))\n",
    "\n",
    "dell=0.001\n",
    "epoch=30"
   ]
  },
  {
   "cell_type": "code",
   "execution_count": null,
   "metadata": {},
   "outputs": [],
   "source": [
    "def newton(epoch):\n",
    "    for i in range(epoch):\n",
    "        loss=np.matmul(hess,hypothesis)\n",
    "        theta=theta-loss\n",
    "    return theta,cost\n",
    "\n",
    "theta,cost=newton(epoch)\n",
    "\n"
   ]
  }
 ],
 "metadata": {
  "kernelspec": {
   "display_name": "Python 3",
   "language": "python",
   "name": "python3"
  },
  "language_info": {
   "codemirror_mode": {
    "name": "ipython",
    "version": 3
   },
   "file_extension": ".py",
   "mimetype": "text/x-python",
   "name": "python",
   "nbconvert_exporter": "python",
   "pygments_lexer": "ipython3",
   "version": "3.7.1"
  }
 },
 "nbformat": 4,
 "nbformat_minor": 2
}
