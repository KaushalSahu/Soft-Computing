{
 "cells": [
  {
   "cell_type": "code",
   "execution_count": 27,
   "metadata": {},
   "outputs": [
    {
     "name": "stdout",
     "output_type": "stream",
     "text": [
      "(100, 1)\n"
     ]
    }
   ],
   "source": [
    "import numpy as np\n",
    "import pandas as pd\n",
    "import matplotlib.pyplot as plt\n",
    "from sklearn.model_selection import train_test_split\n",
    "\n",
    "df = pd.read_csv(\"exam.csv\",header=None)\n",
    "#print(df)\n",
    "\n",
    "X=df[[0,1]].values\n",
    "Y=df[[2]].values\n",
    "X=(X-np.mean(X))/np.std(X)\n",
    "print(Y.shape)"
   ]
  },
  {
   "cell_type": "code",
   "execution_count": 28,
   "metadata": {},
   "outputs": [
    {
     "name": "stdout",
     "output_type": "stream",
     "text": [
      "(70, 3)\n",
      "[[1]\n",
      " [0]\n",
      " [1]\n",
      " [0]\n",
      " [1]\n",
      " [1]\n",
      " [0]\n",
      " [0]\n",
      " [1]\n",
      " [0]\n",
      " [1]\n",
      " [0]\n",
      " [0]\n",
      " [1]\n",
      " [0]\n",
      " [1]\n",
      " [0]\n",
      " [1]\n",
      " [0]\n",
      " [1]\n",
      " [1]\n",
      " [1]\n",
      " [0]\n",
      " [1]\n",
      " [0]\n",
      " [0]\n",
      " [1]\n",
      " [1]\n",
      " [0]\n",
      " [1]\n",
      " [1]\n",
      " [1]\n",
      " [0]\n",
      " [0]\n",
      " [0]\n",
      " [1]\n",
      " [0]\n",
      " [1]\n",
      " [0]\n",
      " [1]\n",
      " [1]\n",
      " [1]\n",
      " [1]\n",
      " [1]\n",
      " [0]\n",
      " [1]\n",
      " [1]\n",
      " [0]\n",
      " [0]\n",
      " [1]\n",
      " [1]\n",
      " [0]\n",
      " [0]\n",
      " [1]\n",
      " [1]\n",
      " [0]\n",
      " [0]\n",
      " [1]\n",
      " [1]\n",
      " [0]\n",
      " [0]\n",
      " [0]\n",
      " [1]\n",
      " [0]\n",
      " [1]\n",
      " [1]\n",
      " [1]\n",
      " [0]\n",
      " [1]\n",
      " [1]]\n"
     ]
    }
   ],
   "source": [
    "ones=np.ones([Y.size,1])\n",
    "X=np.concatenate((ones,X),axis=1)\n",
    "x_train,x_test,y_train,y_test=train_test_split(X,Y,random_state=50,test_size=.3)\n",
    "theta=np.matrix(np.zeros(3))\n",
    "\n",
    "dell=0.001\n",
    "epoch=20\n",
    "print(x_train.shape)\n",
    "print(y_train)"
   ]
  },
  {
   "cell_type": "code",
   "execution_count": 29,
   "metadata": {},
   "outputs": [
    {
     "name": "stdout",
     "output_type": "stream",
     "text": [
      "[[1.22345527 2.76152734 2.8327392 ]]\n"
     ]
    }
   ],
   "source": [
    "def hessian(X, theta,hypothesis):\n",
    "    temp=[]\n",
    "    for i in range(70):\n",
    "        temp.append(0.25)\n",
    "    Diagonal=np.diag(np.array(temp))\n",
    "    temp = 1 - hypothesis\n",
    "    s = np.matmul(X.T,Diagonal)\n",
    "    prod = np.dot(s,X)\n",
    "    \n",
    "    return (prod / len(X))\n",
    "\n",
    "def newton(X, Y, theta, epoch):\n",
    "    for i in range(epoch):\n",
    "        theta_T = np.transpose(theta)\n",
    "        theta_Tx = np.matmul(X,theta_T)\n",
    "        hypothesis = 1 / (1+(np.exp(-theta_Tx)))\n",
    "        error = hypothesis - Y\n",
    "        cost = (-1) * Y.T * np.log(hypothesis) - (1 - Y.T) * np.log((1-hypothesis))\n",
    "        J = np.sum(cost) / len(Y)\n",
    "        gradient=(error.T * X) /len(X)\n",
    "        H = hessian(X, theta,hypothesis)\n",
    "        HI = np.linalg.inv(H)\n",
    "        temp = gradient * HI\n",
    "        theta = theta - temp\n",
    "    \n",
    "    return theta\n",
    "\n",
    "parameters=newton(x_train,y_train,theta,epoch)\n",
    "print(parameters)\n"
   ]
  },
  {
   "cell_type": "code",
   "execution_count": 30,
   "metadata": {},
   "outputs": [
    {
     "name": "stdout",
     "output_type": "stream",
     "text": [
      "predictions out of 30 test points is  26\n",
      "Accuracy achieved= 86.66666666666667 %\n"
     ]
    }
   ],
   "source": [
    "y_predict = np.matmul(x_test, parameters.transpose())\n",
    "y_predict = (-1) * y_predict\n",
    "ex = np.exp(y_predict)\n",
    "h = 1 + ex\n",
    "y_predict = 1 / h\n",
    "y_predict = np.where(y_predict >= 0.5,1,0)\n",
    "y_predict = np.squeeze(y_predict)\n",
    "\n",
    "count = 0\n",
    "for i in range(0,len(y_predict)):\n",
    "    if(y_predict[i] == y_test[i]):\n",
    "        count = count+1\n",
    "print(\"predictions out of 30 test points is \",count)\n",
    "accuracy =  (count / len(y_predict)) * 100\n",
    "print(\"Accuracy achieved=\", accuracy, \"%\")"
   ]
  },
  {
   "cell_type": "code",
   "execution_count": 32,
   "metadata": {},
   "outputs": [
    {
     "data": {
      "image/png": "[encoded data removed]",
      "text/plain": [
       "<Figure size 432x288 with 1 Axes>"
      ]
     },
     "metadata": {
      "needs_background": "light"
     },
     "output_type": "display_data"
    }
   ],
   "source": [
    "x0=[]\n",
    "x1=[]\n",
    "c=df[2]\n",
    "for i in range(0,len(c)):\n",
    "    if(c[i]==0):\n",
    "        x0.append([df[0][i],df[1][i]])\n",
    "    if(c[i]==1):\n",
    "        x1.append([df[0][i],df[1][i]])\n",
    "\n",
    "x0=np.array(x0)\n",
    "x1=np.array(x1)\n",
    "x0=(x0-np.mean(x0))/np.std(x0)\n",
    "x1=(x1-np.mean(x1))/np.std(x1)\n",
    "plt.scatter([x0[:,0]],[x0[:,1]],c='b',label='y=0')\n",
    "plt.scatter([x1[:,0]],[x1[:,1]],c='r',label='y=1')\n",
    "x3=np.arange(-2,2,0.1)\n",
    "x4=-(parameters[0,0]+parameters[0,1]*x3)/parameters[0,2]\n",
    "plt.plot(x3,x4,c='k',label='regression line')\n",
    "plt.xlabel('x1')\n",
    "plt.ylabel('x2')\n",
    "plt.legend()\n",
    "plt.show()"
   ]
  },
  {
   "cell_type": "code",
   "execution_count": null,
   "metadata": {},
   "outputs": [],
   "source": []
  }
 ],
 "metadata": {
  "kernelspec": {
   "display_name": "Python 3",
   "language": "python",
   "name": "python3"
  },
  "language_info": {
   "codemirror_mode": {
    "name": "ipython",
    "version": 3
   },
   "file_extension": ".py",
   "mimetype": "text/x-python",
   "name": "python",
   "nbconvert_exporter": "python",
   "pygments_lexer": "ipython3",
   "version": "3.7.1"
  }
 },
 "nbformat": 4,
 "nbformat_minor": 2
}
