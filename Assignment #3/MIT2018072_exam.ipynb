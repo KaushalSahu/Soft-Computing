{
 "cells": [
  {
   "cell_type": "code",
   "execution_count": 2,
   "metadata": {},
   "outputs": [
    {
     "name": "stdout",
     "output_type": "stream",
     "text": [
      "            0          1  2\n",
      "0   34.623660  78.024693  0\n",
      "1   30.286711  43.894998  0\n",
      "2   35.847409  72.902198  0\n",
      "3   60.182599  86.308552  1\n",
      "4   79.032736  75.344376  1\n",
      "5   45.083277  56.316372  0\n",
      "6   61.106665  96.511426  1\n",
      "7   75.024746  46.554014  1\n",
      "8   76.098787  87.420570  1\n",
      "9   84.432820  43.533393  1\n",
      "10  95.861555  38.225278  0\n",
      "11  75.013658  30.603263  0\n",
      "12  82.307053  76.481963  1\n",
      "13  69.364589  97.718692  1\n",
      "14  39.538339  76.036811  0\n",
      "15  53.971052  89.207350  1\n",
      "16  69.070144  52.740470  1\n",
      "17  67.946855  46.678574  0\n",
      "18  70.661510  92.927138  1\n",
      "19  76.978784  47.575964  1\n",
      "20  67.372028  42.838438  0\n",
      "21  89.676776  65.799366  1\n",
      "22  50.534788  48.855812  0\n",
      "23  34.212061  44.209529  0\n",
      "24  77.924091  68.972360  1\n",
      "25  62.271014  69.954458  1\n",
      "26  80.190181  44.821629  1\n",
      "27  93.114389  38.800670  0\n",
      "28  61.830206  50.256108  0\n",
      "29  38.785804  64.995681  0\n",
      "..        ...        ... ..\n",
      "70  32.722833  43.307173  0\n",
      "71  64.039320  78.031688  1\n",
      "72  72.346494  96.227593  1\n",
      "73  60.457886  73.094998  1\n",
      "74  58.840956  75.858448  1\n",
      "75  99.827858  72.369252  1\n",
      "76  47.264269  88.475865  1\n",
      "77  50.458160  75.809860  1\n",
      "78  60.455556  42.508409  0\n",
      "79  82.226662  42.719879  0\n",
      "80  88.913896  69.803789  1\n",
      "81  94.834507  45.694307  1\n",
      "82  67.319257  66.589353  1\n",
      "83  57.238706  59.514282  1\n",
      "84  80.366756  90.960148  1\n",
      "85  68.468522  85.594307  1\n",
      "86  42.075455  78.844786  0\n",
      "87  75.477702  90.424539  1\n",
      "88  78.635424  96.647427  1\n",
      "89  52.348004  60.769505  0\n",
      "90  94.094331  77.159105  1\n",
      "91  90.448551  87.508792  1\n",
      "92  55.482161  35.570703  0\n",
      "93  74.492692  84.845137  1\n",
      "94  89.845807  45.358284  1\n",
      "95  83.489163  48.380286  1\n",
      "96  42.261701  87.103851  1\n",
      "97  99.315009  68.775409  1\n",
      "98  55.340018  64.931938  1\n",
      "99  74.775893  89.529813  1\n",
      "\n",
      "[100 rows x 3 columns]\n"
     ]
    }
   ],
   "source": [
    "import numpy as np\n",
    "import pandas as pd\n",
    "from sklearn.model_selection import train_test_split\n",
    "import matplotlib.pyplot as plt\n",
    "x=[]\n",
    "y=[]\n",
    "x0=[]\n",
    "x1=[]\n",
    "data=pd.read_csv(\"exam.csv\",header=None)\n",
    "print(data)\n",
    "c=data[2]\n",
    "for i in range(0,len(c)):\n",
    "    if(c[i]==0):\n",
    "        x0.append([data[0][i],data[1][i]])\n",
    "    if(c[i]==1):\n",
    "        x1.append([data[0][i],data[1][i]])\n",
    "    x.append([data[0][i],data[1][i]])\n",
    "    y.append([data[2][i]])\n",
    "\n",
    "one=np.ones([len(x),1])\n",
    "x=np.concatenate((one,x),axis=1)\n",
    "x=(x-np.mean(x))/np.std(x)\n",
    "y=np.array(y)\n",
    "x0=np.array(x0)\n",
    "x1=np.array(x1)\n",
    "x0=(x0-np.mean(x0))/np.std(x0)\n",
    "x1=(x1-np.mean(x1))/np.std(x1)"
   ]
  },
  {
   "cell_type": "code",
   "execution_count": 3,
   "metadata": {},
   "outputs": [
    {
     "name": "stdout",
     "output_type": "stream",
     "text": [
      "(70, 3) (30, 3) (70, 1) (30, 1)\n"
     ]
    }
   ],
   "source": [
    "x_train,x_test,y_train,y_test=train_test_split(x,y,random_state=50,test_size=.3)\n",
    "theta = np.matrix(np.zeros(3))\n",
    "print(x_train.shape,x_test.shape,y_train.shape,y_test.shape)\n",
    "\n",
    "#set gradient parameters\n",
    "alpha = 0.01\n",
    "iters = 1000"
   ]
  },
  {
   "cell_type": "code",
   "execution_count": 11,
   "metadata": {},
   "outputs": [
    {
     "name": "stdout",
     "output_type": "stream",
     "text": [
      "(1, 3)\n",
      "parameters after gradient descent= [[-0.01708493  0.11274204  0.10827061]]\n"
     ]
    },
    {
     "data": {
      "image/png": "[encoded data removed]",
      "text/plain": [
       "<Figure size 432x288 with 1 Axes>"
      ]
     },
     "metadata": {
      "needs_background": "light"
     },
     "output_type": "display_data"
    },
    {
     "name": "stdout",
     "output_type": "stream",
     "text": [
      "correct predictions out of 30 test points is  21\n",
      "Accuracy = 70.0 %\n"
     ]
    }
   ],
   "source": [
    "## Batch Gradient Descent ##\n",
    "var=100\n",
    "def gradientDescent(X,Y,theta,iters,alpha):\n",
    "    cost=[]\n",
    "    for i in range(0,iters):\n",
    "        hypothesis=X*theta.T\n",
    "        hypothesis=1/(1+np.exp((-1)*hypothesis))\n",
    "        temp=np.log2(hypothesis)\n",
    "        temp1=np.log2(1-hypothesis)\n",
    "        v1=(-1)*(np.matmul(Y.T,temp))\n",
    "        v2=(-1)*(np.matmul((1-Y).T,temp1))\n",
    "        loss=hypothesis-Y\n",
    "        fvalue=v1+v2\n",
    "        cost.append(v1+v2)\n",
    "        #if i>0:\n",
    "            #print(\"iteration=\",i,\"| cost=\",cost[i])\n",
    "        gradient=(loss.T*X)/len(X)\n",
    "        theta=theta-(alpha*(gradient+var/len(X)*theta))\n",
    "    return theta,cost\n",
    "\n",
    "g,cost=gradientDescent(x_train,y_train,theta,iters,alpha)\n",
    "print(\"parameters after gradient descent=\",g)\n",
    "\n",
    "it=np.arange(0,iters)\n",
    "plt.plot(it,np.squeeze(cost))\n",
    "plt.scatter(it,np.squeeze(cost))\n",
    "plt.show()\n",
    "\n",
    "\n",
    "\n",
    "##calculating sum of squared error of the test data\n",
    "tempy=np.matmul(x_test,g.transpose())\n",
    "tempy=1/(1+np.exp((-1)*tempy))\n",
    "tempy=np.where(tempy>=0.5,1,0)\n",
    "tempy=np.squeeze(tempy)\n",
    "count=0\n",
    "for i in range(0,len(tempy)):\n",
    "    if(tempy[i]==y_test[i]):\n",
    "        count=count+1\n",
    "print(\"correct predictions out of 30 test points is \",count)\n",
    "print(\"Accuracy =\",count/len(tempy)*100,\"%\")"
   ]
  },
  {
   "cell_type": "code",
   "execution_count": 8,
   "metadata": {},
   "outputs": [
    {
     "data": {
      "image/png": "[encoded data removed]",
      "text/plain": [
       "<Figure size 432x288 with 1 Axes>"
      ]
     },
     "metadata": {
      "needs_background": "light"
     },
     "output_type": "display_data"
    }
   ],
   "source": [
    "x0=np.array(x0)\n",
    "x1=np.array(x1)\n",
    "plt.scatter([x0[:,0]],[x0[:,1]],c='b',label='y=0')\n",
    "plt.scatter([x1[:,0]],[x1[:,1]],c='r',label='y=1')\n",
    "x3=np.arange(-2,2,0.1)\n",
    "x4=-(g[0,0]+g[0,1]*x3)/g[0,2]\n",
    "plt.plot(x3,x4,c='k',label='regression line')\n",
    "plt.xlabel('x3')\n",
    "plt.ylabel('x4')\n",
    "#plt.legend()\n",
    "plt.show()"
   ]
  },
  {
   "cell_type": "code",
   "execution_count": null,
   "metadata": {},
   "outputs": [],
   "source": []
  }
 ],
 "metadata": {
  "kernelspec": {
   "display_name": "Python 3",
   "language": "python",
   "name": "python3"
  },
  "language_info": {
   "codemirror_mode": {
    "name": "ipython",
    "version": 3
   },
   "file_extension": ".py",
   "mimetype": "text/x-python",
   "name": "python",
   "nbconvert_exporter": "python",
   "pygments_lexer": "ipython3",
   "version": "3.7.1"
  }
 },
 "nbformat": 4,
 "nbformat_minor": 2
}
