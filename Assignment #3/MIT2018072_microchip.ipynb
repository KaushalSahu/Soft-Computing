{
 "cells": [
  {
   "cell_type": "code",
   "execution_count": 2,
   "metadata": {},
   "outputs": [],
   "source": [
    "import numpy as np\n",
    "import pandas as pd\n",
    "from sklearn.model_selection import train_test_split\n",
    "import matplotlib.pyplot as plt\n",
    "\n",
    "data=pd.read_csv(\"microchip.csv\",header=None)\n",
    "x=data[[0,1]].values\n",
    "y=data[[2]].values\n",
    "\n",
    "one=np.ones([len(x),1])\n",
    "x=np.concatenate((one,x),axis=1)\n",
    "x=(x-np.mean(x))/np.std(x)\n",
    "y=np.array(y)"
   ]
  },
  {
   "cell_type": "code",
   "execution_count": 3,
   "metadata": {},
   "outputs": [
    {
     "name": "stdout",
     "output_type": "stream",
     "text": [
      "(81, 3) (36, 3) (81, 1) (36, 1)\n"
     ]
    }
   ],
   "source": [
    "x_train,x_test,y_train,y_test=train_test_split(x,y,random_state=10,test_size=.3)\n",
    "theta = np.matrix(np.zeros(3))\n",
    "print(x_train.shape,x_test.shape,y_train.shape,y_test.shape)\n",
    "\n",
    "#set gradient parameters\n",
    "alpha = 0.01\n",
    "iters = 1000"
   ]
  },
  {
   "cell_type": "code",
   "execution_count": 4,
   "metadata": {},
   "outputs": [
    {
     "name": "stdout",
     "output_type": "stream",
     "text": [
      "parameters after gradient descent= [[-0.02398727 -0.02458423 -0.00977045]]\n"
     ]
    },
    {
     "data": {
      "image/png": "[encoded data removed]",
      "text/plain": [
       "<Figure size 432x288 with 1 Axes>"
      ]
     },
     "metadata": {
      "needs_background": "light"
     },
     "output_type": "display_data"
    },
    {
     "name": "stdout",
     "output_type": "stream",
     "text": [
      "0   [1]\n",
      "0   [0]\n",
      "1   [1]\n",
      "1   [0]\n",
      "0   [0]\n",
      "0   [1]\n",
      "1   [0]\n",
      "1   [0]\n",
      "0   [1]\n",
      "1   [1]\n",
      "1   [1]\n",
      "1   [1]\n",
      "1   [0]\n",
      "0   [1]\n",
      "1   [0]\n",
      "0   [1]\n",
      "0   [1]\n",
      "1   [1]\n",
      "0   [1]\n",
      "0   [1]\n",
      "0   [0]\n",
      "1   [0]\n",
      "1   [1]\n",
      "1   [1]\n",
      "0   [1]\n",
      "0   [1]\n",
      "0   [1]\n",
      "0   [0]\n",
      "1   [0]\n",
      "1   [0]\n",
      "1   [1]\n",
      "0   [0]\n",
      "0   [0]\n",
      "1   [0]\n",
      "0   [0]\n",
      "0   [0]\n",
      "correct predictions out of 36 test points is  16\n",
      "Accuracy = 44.44444444444444 %\n"
     ]
    }
   ],
   "source": [
    "## Batch Gradient Descent ##\n",
    "var=100\n",
    "def gradientDescent(X,Y,theta,iters,alpha):\n",
    "    cost=[]\n",
    "    for i in range(0,iters):\n",
    "        hypothesis=X*theta.T\n",
    "        hypothesis=1/(1+np.exp((-1)*hypothesis))\n",
    "        temp=np.log2(hypothesis)\n",
    "        temp1=np.log2(1-hypothesis)\n",
    "        v1=(-1)*(np.matmul(Y.T,temp))\n",
    "        v2=(-1)*(np.matmul((1-Y).T,temp1))\n",
    "        loss=hypothesis-Y\n",
    "        fvalue=v1+v2\n",
    "        cost.append(v1+v2)\n",
    "        #if i>0:\n",
    "            #print(\"iteration=\",i,\"| cost=\",cost[i])\n",
    "        gradient=(loss.T*X)/len(X)\n",
    "        theta=theta-(alpha*(gradient+var/len(X)*theta))\n",
    "    return theta,cost\n",
    "\n",
    "g,cost=gradientDescent(x_train,y_train,theta,iters,alpha)\n",
    "print(\"parameters after gradient descent=\",g)\n",
    "it=np.arange(0,iters)\n",
    "plt.scatter(it,np.squeeze(cost))\n",
    "plt.show()\n",
    "\n",
    "##calculating sum of squared error of the test data\n",
    "tempy=np.matmul(x_test,g.transpose())\n",
    "tempy=1/(1+np.exp((-1)*tempy))\n",
    "tempy=np.where(tempy>=0.5,1,0)\n",
    "tempy=np.squeeze(tempy)\n",
    "count=0\n",
    "for i in range(0,len(tempy)):\n",
    "    print(tempy[i],\" \",y_test[i])\n",
    "    if(tempy[i]==y_test[i]):\n",
    "        count=count+1\n",
    "print(\"correct predictions out of 36 test points is \",count)\n",
    "print(\"Accuracy =\",count/len(tempy)*100,\"%\")"
   ]
  },
  {
   "cell_type": "code",
   "execution_count": 7,
   "metadata": {},
   "outputs": [
    {
     "data": {
      "image/png": "[encoded data removed]",
      "text/plain": [
       "<Figure size 432x288 with 1 Axes>"
      ]
     },
     "metadata": {
      "needs_background": "light"
     },
     "output_type": "display_data"
    }
   ],
   "source": [
    "##Using entire dataset for plotting the graph as there are lesser test points\n",
    "x=[]\n",
    "y=[]\n",
    "x0=[]\n",
    "x1=[]\n",
    "c=data[2]\n",
    "\n",
    "for i in range(0,len(c)):\n",
    "    if(c[i]==0):\n",
    "        x0.append([data[0][i],data[1][i]])\n",
    "    if(c[i]==1):\n",
    "        x1.append([data[0][i],data[1][i]])\n",
    "\n",
    "x0=np.array(x0)\n",
    "x1=np.array(x1)\n",
    "x0=(x0-np.mean(x0))/np.std(x0)\n",
    "x1=(x1-np.mean(x1))/np.std(x1)\n",
    "\n",
    "plt.scatter([x0[:,0]],[x0[:,1]],c='r',label='failed')\n",
    "plt.scatter([x1[:,0]],[x1[:,1]],c='b',label='passed')\n",
    "x3=np.arange(-2,2,0.1)\n",
    "x4=-(g[0,0]+g[0,1]*x3)/g[0,2]\n",
    "plt.plot(x3,x4,c='k',label='regression line')\n",
    "plt.xlabel('Microchip Test1')\n",
    "plt.ylabel('Microchip Test2')\n",
    "plt.legend()\n",
    "plt.ylim([-2,2])\n",
    "plt.show()"
   ]
  },
  {
   "cell_type": "code",
   "execution_count": null,
   "metadata": {},
   "outputs": [],
   "source": []
  }
 ],
 "metadata": {
  "kernelspec": {
   "display_name": "Python 3",
   "language": "python",
   "name": "python3"
  },
  "language_info": {
   "codemirror_mode": {
    "name": "ipython",
    "version": 3
   },
   "file_extension": ".py",
   "mimetype": "text/x-python",
   "name": "python",
   "nbconvert_exporter": "python",
   "pygments_lexer": "ipython3",
   "version": "3.7.1"
  }
 },
 "nbformat": 4,
 "nbformat_minor": 2
}
