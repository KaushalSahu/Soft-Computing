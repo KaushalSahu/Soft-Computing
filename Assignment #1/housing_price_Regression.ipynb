{
 "cells": [
  {
   "cell_type": "code",
   "execution_count": 1,
   "metadata": {},
   "outputs": [],
   "source": [
    "import pandas as pd\n",
    "import numpy as np\n",
    "import matplotlib.pyplot as matlab\n",
    "data=pd.read_csv(\"Housing_Price_data_set.csv\")\n",
    "data.tail()\n",
    "size=data['lotsize'].count()"
   ]
  },
  {
   "cell_type": "code",
   "execution_count": 2,
   "metadata": {},
   "outputs": [],
   "source": [
    "data['num_driveway']=data.driveway.map({'yes':1,'no':0})\n",
    "data['num_recroom']=data.recroom.map({'yes':1,'no':0})\n",
    "data['num_fullbase']=data.fullbase.map({'yes':1,'no':0})\n",
    "data['num_gashw']=data.gashw.map({'yes':1,'no':0})\n",
    "data['num_airco']=data.airco.map({'yes':1,'no':0})\n",
    "data['num_prefarea']=data.prefarea.map({'yes':1,'no':0})\n",
    "X=data[['lotsize','bedrooms','bathrms','stories','num_driveway','num_recroom','num_fullbase','num_gashw','num_airco','garagepl','num_prefarea']].values\n",
    "Y=data[['price']].values\n",
    "X=(X-np.mean(X))/np.std(X)\n",
    "Y=(Y-np.mean(Y))/np.std(Y)"
   ]
  },
  {
   "cell_type": "code",
   "execution_count": 6,
   "metadata": {},
   "outputs": [
    {
     "name": "stdout",
     "output_type": "stream",
     "text": [
      "[[1.37658083e+03]\n",
      " [2.15081925e-01]\n",
      " [1.11110312e+02]\n",
      " [8.69446160e+02]\n",
      " [3.97676261e+02]\n",
      " [4.05611236e+02]\n",
      " [2.73607644e+02]\n",
      " [3.30685106e+02]\n",
      " [7.78219890e+02]\n",
      " [7.66179987e+02]\n",
      " [2.57447262e+02]\n",
      " [5.68257407e+02]]\n"
     ]
    }
   ],
   "source": [
    "one=np.ones(size,dtype=int)\n",
    "matx=np.insert(X,0,one,axis=1)\n",
    "transpose_x=np.transpose(matx)\n",
    "temp=np.matmul(transpose_x,matx)\n",
    "temp2=np.matmul(transpose_x,Y)\n",
    "invtemp=np.linalg.inv(temp)\n",
    "parameters=np.matmul(invtemp,temp2)\n",
    "print(parameters)\n"
   ]
  },
  {
   "cell_type": "code",
   "execution_count": 7,
   "metadata": {},
   "outputs": [
    {
     "name": "stdout",
     "output_type": "stream",
     "text": [
      "total squared error is\n",
      "0.42128128593783093\n"
     ]
    }
   ],
   "source": [
    "tempy=np.matmul(matx,parameters)\n",
    "diff=tempy-Y\n",
    "print(\"total squared error is\")\n",
    "tsse=(np.mean(np.abs(diff)))\n",
    "print(tsse)"
   ]
  },
  {
   "cell_type": "code",
   "execution_count": null,
   "metadata": {},
   "outputs": [],
   "source": []
  }
 ],
 "metadata": {
  "kernelspec": {
   "display_name": "Python 3",
   "language": "python",
   "name": "python3"
  },
  "language_info": {
   "codemirror_mode": {
    "name": "ipython",
    "version": 3
   },
   "file_extension": ".py",
   "mimetype": "text/x-python",
   "name": "python",
   "nbconvert_exporter": "python",
   "pygments_lexer": "ipython3",
   "version": "3.7.1"
  }
 },
 "nbformat": 4,
 "nbformat_minor": 2
}
