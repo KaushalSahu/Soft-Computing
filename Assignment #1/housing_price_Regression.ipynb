{
 "cells": [
  {
   "cell_type": "code",
   "execution_count": 4,
   "metadata": {},
   "outputs": [],
   "source": [
    "import pandas as pd\n",
    "import numpy as np\n",
    "data=pd.read_csv(\"Housing_price_data_set.csv\")\n",
    "data.tail()\n",
    "size=data['lotsize'].count()"
   ]
  },
  {
   "cell_type": "code",
   "execution_count": 6,
   "metadata": {},
   "outputs": [
    {
     "name": "stdout",
     "output_type": "stream",
     "text": [
      "[[5850    3    1 ...    0    1    0]\n",
      " [4000    2    1 ...    0    0    0]\n",
      " [3060    3    1 ...    0    0    0]\n",
      " ...\n",
      " [6000    3    2 ...    1    1    0]\n",
      " [6000    3    2 ...    1    1    0]\n",
      " [6000    3    1 ...    1    1    0]]\n"
     ]
    }
   ],
   "source": [
    "data['num_driveway']=data.driveway.map({'yes':1,'no':0})\n",
    "data['num_recroom']=data.recroom.map({'yes':1,'no':0})\n",
    "data['num_fullbase']=data.fullbase.map({'yes':1,'no':0})\n",
    "data['num_gashw']=data.gashw.map({'yes':1,'no':0})\n",
    "data['num_airco']=data.airco.map({'yes':1,'no':0})\n",
    "data['num_prefarea']=data.prefarea.map({'yes':1,'no':0})\n",
    "X=data[['lotsize','bedrooms','bathrms','stories','num_driveway','num_recroom','num_fullbase','num_gashw','num_airco','garagepl','num_prefarea']].values\n",
    "Y=data[['price']].values\n",
    "print(X)"
   ]
  },
  {
   "cell_type": "code",
   "execution_count": 13,
   "metadata": {},
   "outputs": [
    {
     "name": "stdout",
     "output_type": "stream",
     "text": [
      "[[-4.03835043e+03]\n",
      " [ 3.54630297e+00]\n",
      " [ 1.83200347e+03]\n",
      " [ 1.43355585e+04]\n",
      " [ 6.55694571e+03]\n",
      " [ 6.68777889e+03]\n",
      " [ 4.51128383e+03]\n",
      " [ 5.45238554e+03]\n",
      " [ 1.28314063e+04]\n",
      " [ 1.26328904e+04]\n",
      " [ 4.24482900e+03]\n",
      " [ 9.36951324e+03]]\n"
     ]
    }
   ],
   "source": [
    "one=np.ones(size,dtype=int)\n",
    "matx=np.insert(X,0,one,axis=1)\n",
    "transpose_x=np.transpose(matx)\n",
    "temp=np.matmul(transpose_x,matx)\n",
    "temp2=np.matmul(transpose_x,maty)\n",
    "invtemp=np.linalg.inv(temp)\n",
    "parameters=np.matmul(invtemp,temp2)\n",
    "print(parameters)"
   ]
  },
  {
   "cell_type": "code",
   "execution_count": null,
   "metadata": {},
   "outputs": [],
   "source": []
  }
 ],
 "metadata": {
  "kernelspec": {
   "display_name": "Python 3",
   "language": "python",
   "name": "python3"
  },
  "language_info": {
   "codemirror_mode": {
    "name": "ipython",
    "version": 3
   },
   "file_extension": ".py",
   "mimetype": "text/x-python",
   "name": "python",
   "nbconvert_exporter": "python",
   "pygments_lexer": "ipython3",
   "version": "3.7.1"
  }
 },
 "nbformat": 4,
 "nbformat_minor": 2
}
