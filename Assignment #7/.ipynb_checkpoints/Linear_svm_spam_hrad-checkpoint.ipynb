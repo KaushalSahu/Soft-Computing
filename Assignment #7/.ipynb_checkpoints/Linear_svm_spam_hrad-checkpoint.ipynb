{
 "cells": [
  {
   "cell_type": "code",
   "execution_count": null,
   "metadata": {},
   "outputs": [],
   "source": [
    "import numpy as np\n",
    "import scipy.io\n",
    "import pandas as pd\n",
    "import matplotlib.pyplot as plt\n",
    "from sklearn.datasets.samples_generator import make_blobs\n",
    "from cvxopt import matrix,solvers"
   ]
  },
  {
   "cell_type": "code",
   "execution_count": 72,
   "metadata": {},
   "outputs": [
    {
     "name": "stdout",
     "output_type": "stream",
     "text": [
      "(2000, 57)\n"
     ]
    }
   ],
   "source": [
    "mat = pd.read_csv('mnist.csv')\n",
    "#data_train = pd.DataFrame(np.hstack((mat['xtrain'], mat['ytrain'])))\n",
    "\n",
    "X_train = mat['xtrain']\n",
    "X_test = mat['xtest']\n",
    "y_test = mat['ytest']\n",
    "y_train = mat['ytrain']\n",
    "\n",
    "print(X_test.shape)"
   ]
  },
  {
   "cell_type": "code",
   "execution_count": 73,
   "metadata": {},
   "outputs": [],
   "source": [
    "# data_test = pd.DataFrame(np.hstack((mat['xtest'], mat['ytest'])))\n",
    "# print(data_test.shape)\n",
    "# data_test.head()\n",
    "#np.array(y_train).reshape(1, X_train.shape[0]).shape"
   ]
  },
  {
   "cell_type": "code",
   "execution_count": 74,
   "metadata": {},
   "outputs": [],
   "source": [
    "# X, y = make_blobs(n_samples=200, centers=2, n_features=2)\n",
    "\n",
    "# X = X.astype(float)\n",
    "# y = y.astype(float)\n",
    "# for i in range(y.shape[0]):\n",
    "#       if y[i] == 0:\n",
    "#             y[i] = -1\n",
    "# #colors = {0:'red', 1:'blue'}\n",
    "# # X = X.values\n",
    "# # y = y.values\n",
    "# df = pd.DataFrame(dict(x=X[:,0], y=X[:,1], label=y))\n",
    "# df.head()"
   ]
  },
  {
   "cell_type": "code",
   "execution_count": 75,
   "metadata": {},
   "outputs": [],
   "source": [
    "#plt.scatter(X[:,0],X[:,1],c = y)"
   ]
  },
  {
   "cell_type": "code",
   "execution_count": 76,
   "metadata": {},
   "outputs": [],
   "source": [
    "# from sklearn.model_selection import train_test_split\n",
    "\n",
    "# X_train, X_test, y_train, y_test = train_test_split(X, y, test_size=0.30, random_state=42)"
   ]
  },
  {
   "cell_type": "code",
   "execution_count": 77,
   "metadata": {},
   "outputs": [],
   "source": [
    "def linear_kernel(x1,x2):\n",
    "    return (np.dot(x1,x2))"
   ]
  },
  {
   "cell_type": "code",
   "execution_count": 82,
   "metadata": {},
   "outputs": [],
   "source": [
    "def fit_svm(X_train,y_train):\n",
    "    n_train,m_train = X_train.shape\n",
    "    #print(n_train)\n",
    "    k = np.zeros((n_train,n_train))\n",
    "    for i in range(n_train):\n",
    "        for j in range(n_train):\n",
    "            k[i][j] = linear_kernel(X_train[i],X_train[j])\n",
    "    #k = X_train @ X_train.T\n",
    "    P = matrix(np.outer(y_train, y_train) * k)\n",
    "    #print(P.shape)\n",
    "    y_tn = y_train.astype(np.double)\n",
    "    Q = matrix(-np.ones((n_train,1)))\n",
    "    A = matrix(y_tn.T)\n",
    "    #print(q.shape)\n",
    "    B = matrix(0.0)\n",
    "    \n",
    "    G = matrix(np.diag(np.ones(n_train) * -1))\n",
    "    H = matrix(np.zeros(n_train))\n",
    "    #print(\"G=\",H)\n",
    "    \n",
    "    # running solver\n",
    "    solvers.options['show_progress'] = False\n",
    "    sol = solvers.qp(P,Q,G,H,A,B)\n",
    "    alpha = np.array(sol['x'])\n",
    "    #print(alpha)\n",
    "    #get weigh\n",
    "    #w parameter in vectorized form\n",
    "    w = ((y_train * alpha).T @ X_train).reshape(-1,1)\n",
    "\n",
    "    #Selecting the set of support corresponding to non zero parameters\n",
    "    S = (alpha > 1e-5)*1\n",
    "\n",
    "    #Computing b\n",
    "    print(X_train[S].shape)\n",
    "    b = y_train[S] - np.dot(X_train[S], w)\n",
    "\n",
    "    print(w.shape)\n",
    "    print(b.shape)\n",
    "    \n",
    "    return w,b\n",
    "\n",
    "def predict(x,w,bias):\n",
    "        return np.sign(np.dot(x,w) + bias)\n",
    "\n",
    "# def accuracy(y_test,y_pred,x_n):\n",
    "#    # x_n = y_test.shape\n",
    "#     c = 0\n",
    "#     for i in range(x_n):\n",
    "#         if y_pred[i] == y_test[i]:\n",
    "#             c += 1\n",
    "    \n",
    "#     return(c/x_n)"
   ]
  },
  {
   "cell_type": "code",
   "execution_count": 83,
   "metadata": {},
   "outputs": [
    {
     "name": "stdout",
     "output_type": "stream",
     "text": [
      "(500, 1, 57)\n",
      "(57, 1)\n",
      "(500, 1, 1)\n",
      "(57, 1)\n",
      "0.166\n",
      "54.35\n"
     ]
    }
   ],
   "source": [
    "w,b = fit_svm(X_train,y_train) \n",
    "\n",
    "y_pred = predict(X_test,w,b[0])\n",
    "x_r,x_y = X_test.shape\n",
    "#ac = accuracy(y_test,y_pred,x_r)\n",
    "\n",
    "ac = np.mean(y_test == y_pred)\n",
    "print(w.shape)\n",
    "#print(b)\n",
    "print(np.mean(y_pred == -1))\n",
    "#print(y_pred)\n",
    "print(ac*100)"
   ]
  }
 ],
 "metadata": {
  "kernelspec": {
   "display_name": "Python 3",
   "language": "python",
   "name": "python3"
  },
  "language_info": {
   "codemirror_mode": {
    "name": "ipython",
    "version": 3
   },
   "file_extension": ".py",
   "mimetype": "text/x-python",
   "name": "python",
   "nbconvert_exporter": "python",
   "pygments_lexer": "ipython3",
   "version": "3.7.1"
  }
 },
 "nbformat": 4,
 "nbformat_minor": 2
}
