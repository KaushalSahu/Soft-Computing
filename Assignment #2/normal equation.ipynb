{
 "cells": [
  {
   "cell_type": "code",
   "execution_count": 62,
   "metadata": {},
   "outputs": [
    {
     "name": "stdout",
     "output_type": "stream",
     "text": [
      "[[5850    3    1 ...    0    1    0]\n",
      " [4000    2    1 ...    0    0    0]\n",
      " [3060    3    1 ...    0    0    0]\n",
      " ...\n",
      " [6000    3    2 ...    1    1    0]\n",
      " [6000    3    2 ...    1    1    0]\n",
      " [6000    3    1 ...    1    1    0]]\n"
     ]
    }
   ],
   "source": [
    "import pandas as pd\n",
    "import numpy as np\n",
    "import matplotlib.pyplot as matlab\n",
    "data=pd.read_csv(\"Housing_price_data_set.csv\")\n",
    "size=data['lotsize'].count()\n",
    "data['num_driveway']=data.driveway.map({'yes':1,'no':0})\n",
    "data['num_recroom']=data.recroom.map({'yes':1,'no':0})\n",
    "data['num_fullbase']=data.fullbase.map({'yes':1,'no':0})\n",
    "data['num_gashw']=data.gashw.map({'yes':1,'no':0})\n",
    "data['num_airco']=data.airco.map({'yes':1,'no':0})\n",
    "data['num_prefarea']=data.prefarea.map({'yes':1,'no':0})\n",
    "X=data[['lotsize','bedrooms','bathrms','stories','num_driveway','num_recroom','num_fullbase','num_gashw','num_airco','garagepl','num_prefarea']].values\n",
    "Y=data[['price']].values\n",
    "print(X)"
   ]
  },
  {
   "cell_type": "code",
   "execution_count": 63,
   "metadata": {},
   "outputs": [
    {
     "name": "stdout",
     "output_type": "stream",
     "text": [
      "[[2.10719636e+04]\n",
      " [5.87699223e+00]\n",
      " [1.83544782e+03]\n",
      " [2.27115174e+03]\n",
      " [3.01071349e+03]\n",
      " [6.03000929e+02]\n",
      " [8.15591733e+02]\n",
      " [9.79253578e+02]\n",
      " [2.72661577e+02]\n",
      " [1.75260186e+03]\n",
      " [1.66498810e+03]\n",
      " [1.06938331e+03]]\n"
     ]
    }
   ],
   "source": [
    "one=np.ones(size,dtype=int)\n",
    "matx=np.insert(X,0,one,axis=1)\n",
    "n=len(matx[0])\n",
    "transpose_x=np.transpose(matx)\n",
    "temp=np.matmul(transpose_x,matx)\n",
    "\n",
    "\n",
    "\n",
    "iden=np.identity(n,dtype=int)\n",
    "iden[0][0]=0\n",
    "var=1000\n",
    "\n",
    "temp=temp+var*iden\n",
    "temp2=np.matmul(transpose_x,Y)\n",
    "invtemp=np.linalg.inv(temp)\n",
    "parameters=np.matmul(invtemp,temp2)\n",
    "print(parameters)"
   ]
  },
  {
   "cell_type": "code",
   "execution_count": 64,
   "metadata": {},
   "outputs": [
    {
     "name": "stdout",
     "output_type": "stream",
     "text": [
      "[21071.96361867] , [5.87699223]\n"
     ]
    },
    {
     "data": {
      "text/plain": [
       "[<matplotlib.lines.Line2D at 0x1fe99287ef0>]"
      ]
     },
     "execution_count": 64,
     "metadata": {},
     "output_type": "execute_result"
    },
    {
     "data": {
      "image/png": "[encoded data removed]",
      "text/plain": [
       "<Figure size 432x288 with 1 Axes>"
      ]
     },
     "metadata": {
      "needs_background": "light"
     },
     "output_type": "display_data"
    }
   ],
   "source": [
    "varx=data['lotsize']\n",
    "print(parameters[0],\",\",parameters[1])\n",
    "vary=parameters[0]+parameters[1]*varx\n",
    "#matlab.xlim([2000,4000])\n",
    "#matlab.ylim([30000,40000])\n",
    "matlab.scatter(varx,Y)\n",
    "matlab.plot(varx,vary)\n"
   ]
  },
  {
   "cell_type": "code",
   "execution_count": null,
   "metadata": {},
   "outputs": [],
   "source": []
  }
 ],
 "metadata": {
  "kernelspec": {
   "display_name": "Python 3",
   "language": "python",
   "name": "python3"
  },
  "language_info": {
   "codemirror_mode": {
    "name": "ipython",
    "version": 3
   },
   "file_extension": ".py",
   "mimetype": "text/x-python",
   "name": "python",
   "nbconvert_exporter": "python",
   "pygments_lexer": "ipython3",
   "version": "3.7.1"
  }
 },
 "nbformat": 4,
 "nbformat_minor": 2
}
