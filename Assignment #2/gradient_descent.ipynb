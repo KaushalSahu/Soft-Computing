{
 "cells": [
  {
   "cell_type": "code",
   "execution_count": 15,
   "metadata": {},
   "outputs": [
    {
     "name": "stdout",
     "output_type": "stream",
     "text": [
      "[5850    3    1    2    1    0    1    0    0    1    0]\n",
      "[[ 3.32566332 -0.28800578 -0.28924186 ... -0.2898599  -0.28924186\n",
      "  -0.2898599 ]\n",
      " [ 2.18229273 -0.28862382 -0.28924186 ... -0.2898599  -0.2898599\n",
      "  -0.2898599 ]\n",
      " [ 1.60133687 -0.28800578 -0.28924186 ... -0.2898599  -0.2898599\n",
      "  -0.2898599 ]\n",
      " ...\n",
      " [ 3.41836905 -0.28800578 -0.28862382 ... -0.28924186 -0.28924186\n",
      "  -0.2898599 ]\n",
      " [ 3.41836905 -0.28800578 -0.28862382 ... -0.28924186 -0.28924186\n",
      "  -0.2898599 ]\n",
      " [ 3.41836905 -0.28800578 -0.28924186 ... -0.28924186 -0.28924186\n",
      "  -0.2898599 ]]\n",
      "(546, 1)\n"
     ]
    }
   ],
   "source": [
    "import numpy as np\n",
    "import pandas as pd\n",
    "import matplotlib.pyplot as plt\n",
    "data=pd.read_csv('Housing_Price_data_set.csv')\n",
    "data['num_driveway']=data.driveway.map({'yes':1,'no':0})\n",
    "data['num_recroom']=data.recroom.map({'yes':1,'no':0})\n",
    "data['num_fullbase']=data.fullbase.map({'yes':1,'no':0})\n",
    "data['num_gashw']=data.gashw.map({'yes':1,'no':0})\n",
    "data['num_airco']=data.airco.map({'yes':1,'no':0})\n",
    "data['num_prefarea']=data.prefarea.map({'yes':1,'no':0})\n",
    "X=data[['lotsize','bedrooms','bathrms','stories','num_driveway','num_recroom','num_fullbase','num_gashw','num_airco','garagepl','num_prefarea']].values\n",
    "Y=data[['price']].values\n",
    "print(X[0])\n",
    "#normalising the features\n",
    "X=(X-np.mean(X))/np.std(X)\n",
    "print(X)\n",
    "print(Y.shape)\n"
   ]
  },
  {
   "cell_type": "code",
   "execution_count": 16,
   "metadata": {},
   "outputs": [
    {
     "name": "stdout",
     "output_type": "stream",
     "text": [
      "[[0. 0. 0. 0. 0. 0. 0. 0. 0. 0. 0. 0.]]\n"
     ]
    }
   ],
   "source": [
    "ones = np.ones([X.shape[0],1])\n",
    "X = np.concatenate((ones,X),axis=1)\n",
    "\n",
    "theta = np.matrix(np.zeros(12))\n",
    "print(theta)\n",
    "\n",
    "#set gradient parameters\n",
    "alpha = 0.0001\n",
    "iters = 10000"
   ]
  },
  {
   "cell_type": "code",
   "execution_count": 21,
   "metadata": {},
   "outputs": [
    {
     "name": "stdout",
     "output_type": "stream",
     "text": [
      "parameters after gradient descent= [[ 8702.95760851 16565.71240751 -2503.96904258 -2512.98833016\n",
      "  -2508.28447877 -2517.67076393 -2520.86062897 -2519.69139449\n",
      "  -2522.07652717 -2518.99917359 -2517.60325566 -2520.47525206]]\n"
     ]
    },
    {
     "data": {
      "image/png": "[encoded data removed]",
      "text/plain": [
       "<Figure size 432x288 with 1 Axes>"
      ]
     },
     "metadata": {
      "needs_background": "light"
     },
     "output_type": "display_data"
    }
   ],
   "source": [
    "var=100\n",
    "def gradientDescent(X,Y,theta,iters,alpha):\n",
    "    cost=[]\n",
    "    xTrans=X.transpose()\n",
    "    for i in range(0,iters):\n",
    "        hypothesis=X*theta.T\n",
    "        loss=hypothesis-Y\n",
    "        cost.append(np.sum(np.power(loss,2))/(2*len(X)))\n",
    "        #if i>0:\n",
    "            #print(\"iteration=\",i,\"| cost=\",cost[i])\n",
    "        gradient=(loss.T*X)/len(X)\n",
    "        theta=theta-(alpha*(gradient+var/len(X)*theta))\n",
    "    return theta,cost\n",
    "\n",
    "g,cost=gradientDescent(X,Y,theta,iters,alpha)\n",
    "print(\"parameters after gradient descent=\",g)\n",
    "it=np.arange(0,iters)\n",
    "plt.plot(it,np.array(cost))\n",
    "plt.scatter(it,np.array(cost))\n",
    "#plt.ylim([3.0,4.0])\n",
    "plt.show()\n",
    "\n"
   ]
  },
  {
   "cell_type": "code",
   "execution_count": null,
   "metadata": {},
   "outputs": [],
   "source": []
  }
 ],
 "metadata": {
  "kernelspec": {
   "display_name": "Python 3",
   "language": "python",
   "name": "python3"
  },
  "language_info": {
   "codemirror_mode": {
    "name": "ipython",
    "version": 3
   },
   "file_extension": ".py",
   "mimetype": "text/x-python",
   "name": "python",
   "nbconvert_exporter": "python",
   "pygments_lexer": "ipython3",
   "version": "3.7.1"
  }
 },
 "nbformat": 4,
 "nbformat_minor": 2
}
