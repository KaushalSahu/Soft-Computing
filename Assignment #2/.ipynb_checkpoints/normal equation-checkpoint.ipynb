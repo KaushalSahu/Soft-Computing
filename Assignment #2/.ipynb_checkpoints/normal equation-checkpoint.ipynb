{
 "cells": [
  {
   "cell_type": "code",
   "execution_count": 2,
   "metadata": {},
   "outputs": [],
   "source": [
    "import pandas as pd\n",
    "import numpy as np\n",
    "import matplotlib.pyplot as matlab\n",
    "from sklearn.model_selection import train_test_split\n",
    "data=pd.read_csv(\"Housing_Price_data_set.csv\")\n",
    "size=data['lotsize'].count()\n",
    "data['num_driveway']=data.driveway.map({'yes':1,'no':0})\n",
    "data['num_recroom']=data.recroom.map({'yes':1,'no':0})\n",
    "data['num_fullbase']=data.fullbase.map({'yes':1,'no':0})\n",
    "data['num_gashw']=data.gashw.map({'yes':1,'no':0})\n",
    "data['num_airco']=data.airco.map({'yes':1,'no':0})\n",
    "data['num_prefarea']=data.prefarea.map({'yes':1,'no':0})\n",
    "X=data[['lotsize','bedrooms','bathrms','stories','num_driveway','num_recroom','num_fullbase','num_gashw','num_airco','garagepl','num_prefarea']].values\n",
    "Y=data[['price']].values\n",
    "X=(X-np.mean(X))/np.std(X)\n",
    "Y=(Y-np.mean(Y))/np.std(Y)\n"
   ]
  },
  {
   "cell_type": "code",
   "execution_count": 3,
   "metadata": {},
   "outputs": [
    {
     "name": "stdout",
     "output_type": "stream",
     "text": [
      "(164, 12)\n",
      "(164, 1)\n",
      "(382, 12)\n",
      "(382, 1)\n",
      "[[-4.63024605e-01]\n",
      " [ 1.56785583e-01]\n",
      " [ 6.18328233e-05]\n",
      " [ 6.24359518e-05]\n",
      " [ 9.37648359e-05]\n",
      " [ 2.00184105e-05]\n",
      " [ 2.46306334e-05]\n",
      " [ 1.53985864e-05]\n",
      " [ 5.40463783e-06]\n",
      " [ 4.71981248e-05]\n",
      " [ 6.00614100e-05]\n",
      " [ 2.74224103e-05]]\n"
     ]
    }
   ],
   "source": [
    "one=np.ones(size,dtype=int)\n",
    "matx=np.insert(X,0,one,axis=1)\n",
    "\n",
    "x_train,x_test,y_train,y_test=train_test_split(matx,Y,random_state=50,test_size=.3)\n",
    "print(x_test.shape)\n",
    "print(y_test.shape)\n",
    "print(x_train.shape)\n",
    "print(y_train.shape)\n",
    "\n",
    "n=len(matx[0])\n",
    "transpose_x=np.transpose(x_train)\n",
    "temp=np.matmul(transpose_x,x_train)\n",
    "\n",
    "\n",
    "iden=np.identity(n,dtype=int)\n",
    "iden[0][0]=0\n",
    "var=1000\n",
    "\n",
    "temp=temp+var*iden\n",
    "temp2=np.matmul(transpose_x,y_train)\n",
    "invtemp=np.linalg.inv(temp)\n",
    "parameters=np.matmul(invtemp,temp2)\n",
    "print(parameters)"
   ]
  },
  {
   "cell_type": "code",
   "execution_count": 4,
   "metadata": {},
   "outputs": [
    {
     "name": "stdout",
     "output_type": "stream",
     "text": [
      "total squared error is\n",
      "0.6569931193683004\n"
     ]
    }
   ],
   "source": [
    "\n",
    "##calculating sum of squared error\n",
    "tempy=np.matmul(x_test,parameters)\n",
    "diff=tempy-y_test\n",
    "print(\"total squared error is\")\n",
    "tsse=(np.mean(np.abs(diff)))\n",
    "print(tsse)\n",
    "\n",
    "\n"
   ]
  },
  {
   "cell_type": "code",
   "execution_count": null,
   "metadata": {},
   "outputs": [],
   "source": []
  }
 ],
 "metadata": {
  "kernelspec": {
   "display_name": "Python 3",
   "language": "python",
   "name": "python3"
  },
  "language_info": {
   "codemirror_mode": {
    "name": "ipython",
    "version": 3
   },
   "file_extension": ".py",
   "mimetype": "text/x-python",
   "name": "python",
   "nbconvert_exporter": "python",
   "pygments_lexer": "ipython3",
   "version": "3.7.1"
  }
 },
 "nbformat": 4,
 "nbformat_minor": 2
}
