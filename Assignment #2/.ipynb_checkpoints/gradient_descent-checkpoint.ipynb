{
 "cells": [
  {
   "cell_type": "code",
   "execution_count": 2,
   "metadata": {},
   "outputs": [],
   "source": [
    "import numpy as np\n",
    "import pandas as pd\n",
    "import matplotlib.pyplot as plt\n",
    "from sklearn.model_selection import train_test_split\n",
    "data=pd.read_csv('Housing_Price_data_set.csv')\n",
    "data['num_driveway']=data.driveway.map({'yes':1,'no':0})\n",
    "data['num_recroom']=data.recroom.map({'yes':1,'no':0})\n",
    "data['num_fullbase']=data.fullbase.map({'yes':1,'no':0})\n",
    "data['num_gashw']=data.gashw.map({'yes':1,'no':0})\n",
    "data['num_airco']=data.airco.map({'yes':1,'no':0})\n",
    "data['num_prefarea']=data.prefarea.map({'yes':1,'no':0})\n",
    "X=data[['lotsize','bedrooms','bathrms','stories','num_driveway','num_recroom','num_fullbase','num_gashw','num_airco','garagepl','num_prefarea']].values\n",
    "Y=data[['price']].values\n",
    "\n",
    "\n",
    "#normalising the features\n",
    "X=(X-np.mean(X))/np.std(X)\n",
    "Y=(Y-np.mean(Y))/np.std(Y)\n"
   ]
  },
  {
   "cell_type": "code",
   "execution_count": 3,
   "metadata": {},
   "outputs": [
    {
     "name": "stdout",
     "output_type": "stream",
     "text": [
      "(164, 12)\n",
      "(164, 1)\n",
      "(382, 12)\n",
      "(382, 1)\n",
      "[[0. 0. 0. 0. 0. 0. 0. 0. 0. 0. 0. 0.]]\n"
     ]
    }
   ],
   "source": [
    "ones = np.ones([X.shape[0],1])\n",
    "X = np.concatenate((ones,X),axis=1)\n",
    "\n",
    "x_train,x_test,y_train,y_test=train_test_split(X,Y,random_state=50,test_size=.3)\n",
    "print(x_test.shape)\n",
    "print(y_test.shape)\n",
    "print(x_train.shape)\n",
    "print(y_train.shape)\n",
    "\n",
    "theta = np.matrix(np.zeros(12))\n",
    "print(theta)\n",
    "\n",
    "#set gradient parameters\n",
    "alpha = 0.01\n",
    "iters = 10000"
   ]
  },
  {
   "cell_type": "code",
   "execution_count": 4,
   "metadata": {},
   "outputs": [
    {
     "name": "stdout",
     "output_type": "stream",
     "text": [
      "parameters after gradient descent= [[-0.31201252  0.22385437  0.0904532   0.09079023  0.09100656  0.09045408\n",
      "   0.09063603  0.0905283   0.09048319  0.09083362  0.0908532   0.09065369]]\n"
     ]
    },
    {
     "data": {
      "image/png": "[encoded data removed]",
      "text/plain": [
       "<Figure size 432x288 with 1 Axes>"
      ]
     },
     "metadata": {
      "needs_background": "light"
     },
     "output_type": "display_data"
    },
    {
     "name": "stdout",
     "output_type": "stream",
     "text": [
      "total squared error is\n",
      "0.7157367654009816\n"
     ]
    }
   ],
   "source": [
    "##gradient descent based on 70% of the data set\n",
    "\n",
    "var=100\n",
    "def gradientDescent(X,Y,theta,iters,alpha):\n",
    "    cost=[]\n",
    "    xTrans=X.transpose()\n",
    "    for i in range(0,iters):\n",
    "        hypothesis=X*theta.T\n",
    "        loss=hypothesis-Y\n",
    "        cost.append(np.sum(np.power(loss,2))/(2*len(X)))\n",
    "        #if i>0:\n",
    "            #print(\"iteration=\",i,\"| cost=\",cost[i])\n",
    "        gradient=(loss.T*X)/len(X)\n",
    "        theta=theta-(alpha*(gradient+var/len(X)*theta))\n",
    "        #print(theta)\n",
    "    return theta,cost\n",
    "\n",
    "g,cost=gradientDescent(x_train,y_train,theta,iters,alpha)\n",
    "print(\"parameters after gradient descent=\",g)\n",
    "it=np.arange(0,iters)\n",
    "plt.plot(it,np.array(cost))\n",
    "plt.scatter(it,np.array(cost))\n",
    "#plt.ylim([3.0,4.0])\n",
    "plt.show()\n",
    "\n",
    "##calculating sum of squared error of the test data\n",
    "tempy=np.matmul(x_test,g.transpose())\n",
    "diff=tempy-y_test\n",
    "print(\"total squared error is\")\n",
    "tsse=(np.mean(np.power(diff,2)))\n",
    "print(tsse)"
   ]
  },
  {
   "cell_type": "code",
   "execution_count": 5,
   "metadata": {},
   "outputs": [
    {
     "name": "stdout",
     "output_type": "stream",
     "text": [
      "parameters after gradient descent= [[-0.5848375   0.37900657  0.17450523  0.17501759  0.17818519  0.17071102\n",
      "   0.17145451  0.17158816  0.17008154  0.17391457  0.17429542  0.17197108]]\n"
     ]
    },
    {
     "data": {
      "image/png": "[encoded data removed]",
      "text/plain": [
       "<Figure size 432x288 with 1 Axes>"
      ]
     },
     "metadata": {
      "needs_background": "light"
     },
     "output_type": "display_data"
    },
    {
     "name": "stdout",
     "output_type": "stream",
     "text": [
      "total squared error is\n",
      "0.7135421151029215\n"
     ]
    }
   ],
   "source": [
    "\n",
    "##gradient descent based on entire data set\n",
    "var=10\n",
    "def gradientDescent(X,Y,theta,iters,alpha):\n",
    "    cost=[]\n",
    "    xTrans=X.transpose()\n",
    "    for i in range(0,iters):\n",
    "        hypothesis=X*theta.T\n",
    "        loss=hypothesis-Y\n",
    "        cost.append(np.sum(np.power(loss,2))/(2*len(X)))\n",
    "        #if i>0:\n",
    "            #print(\"iteration=\",i,\"| cost=\",cost[i])\n",
    "        gradient=(loss.T*X)/len(X)\n",
    "        theta=theta-(alpha*(gradient+var/len(X)*theta))\n",
    "    return theta,cost\n",
    "\n",
    "g,cost=gradientDescent(X,Y,theta,iters,alpha)\n",
    "print(\"parameters after gradient descent=\",g)\n",
    "it=np.arange(0,iters)\n",
    "plt.plot(it,np.array(cost))\n",
    "plt.scatter(it,np.array(cost))\n",
    "#plt.ylim([3.0,4.0])\n",
    "plt.show()\n",
    "\n",
    "##calculating sum of squared error over the entire dataset\n",
    "tempy=np.matmul(X,g.transpose())\n",
    "diff=tempy-Y\n",
    "print(\"total squared error is\")\n",
    "tsse=(np.mean(np.power(diff,2)))\n",
    "print(tsse)\n",
    "\n"
   ]
  },
  {
   "cell_type": "code",
   "execution_count": null,
   "metadata": {},
   "outputs": [],
   "source": []
  }
 ],
 "metadata": {
  "kernelspec": {
   "display_name": "Python 3",
   "language": "python",
   "name": "python3"
  },
  "language_info": {
   "codemirror_mode": {
    "name": "ipython",
    "version": 3
   },
   "file_extension": ".py",
   "mimetype": "text/x-python",
   "name": "python",
   "nbconvert_exporter": "python",
   "pygments_lexer": "ipython3",
   "version": "3.7.1"
  }
 },
 "nbformat": 4,
 "nbformat_minor": 2
}
