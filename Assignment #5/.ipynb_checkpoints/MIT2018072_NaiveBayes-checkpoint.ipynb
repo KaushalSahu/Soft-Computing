{
 "cells": [
  {
   "cell_type": "code",
   "execution_count": 376,
   "metadata": {},
   "outputs": [],
   "source": [
    "import pandas as pd\n",
    "import numpy as np\n",
    "from sklearn.feature_extraction.text import CountVectorizer\n",
    "from sklearn.model_selection import train_test_split\n",
    "from collections import Counter\n",
    "\n",
    "mails = pd.read_csv(\"spam.csv\",encoding='latin-1',header=0,names=[\"labels\",\"message\"],usecols=[\"labels\",\"message\"])\n",
    "mails[\"labels\"]=mails[\"labels\"].replace(\"ham\",0)\n",
    "mails[\"labels\"]=mails[\"labels\"].replace(\"spam\",1)\n",
    "\n",
    "X = mails[\"message\"]\n",
    "Y = mails[\"labels\"]"
   ]
  },
  {
   "cell_type": "code",
   "execution_count": 377,
   "metadata": {},
   "outputs": [
    {
     "name": "stdout",
     "output_type": "stream",
     "text": [
      "56\n"
     ]
    }
   ],
   "source": [
    "x_train,x_test,y_train,y_test=train_test_split(X,Y,random_state=0,test_size=.01)\n",
    "print(y_test.size)"
   ]
  },
  {
   "cell_type": "code",
   "execution_count": 378,
   "metadata": {},
   "outputs": [],
   "source": [
    "#vectorizer = CountVectorizer()\n",
    "#counts = vectorizer.fit_transform(X.values)\n",
    "\n",
    "#target = y_train.values\n",
    "#print(counts)"
   ]
  },
  {
   "cell_type": "code",
   "execution_count": 379,
   "metadata": {},
   "outputs": [],
   "source": [
    "c = Counter(Y)\n",
    "numHam = c[0]\n",
    "numSpam = c[1]"
   ]
  },
  {
   "cell_type": "code",
   "execution_count": 380,
   "metadata": {},
   "outputs": [
    {
     "name": "stdout",
     "output_type": "stream",
     "text": [
      "Accuracy =  39.285714285714285\n"
     ]
    }
   ],
   "source": [
    "SpamWord = {}\n",
    "HamWord = {}\n",
    "SpamWordTotal = 0\n",
    "HamWordTotal = 0\n",
    "\n",
    "def train():\n",
    "    for i in x_train.index:\n",
    "        email = x_train[i]\n",
    "        label = y_train[i]\n",
    "        processEmail(email,label)\n",
    "    pSpam = numSpam/Y.size\n",
    "    pHam = numHam/Y.size\n",
    "    \n",
    "def processEmail(message, labels):\n",
    "    for word in message:\n",
    "        if labels == 1:\n",
    "            SpamWord[word] = SpamWord.get(word, 0) + 1\n",
    "            global SpamWordTotal\n",
    "            SpamWordTotal += 1\n",
    "        else:\n",
    "            HamWord[word] = HamWord.get(word, 0) + 1\n",
    "            global HamWordTotal\n",
    "            HamWordTotal += 1\n",
    "            \n",
    "\n",
    "def conditionalEmail(message , spam):\n",
    "    result = 1.0\n",
    "    for word in message:\n",
    "        result *= conditionalWord(message, spam)\n",
    "    return result\n",
    "\n",
    "def classify(email):\n",
    "    isSpam = pSpam * conditionalEmail(email, True) \n",
    "    isHam = pHam * conditionalEmail(email, False) \n",
    "    return isSpam > isHam\n",
    "\n",
    "def conditionalWord(word, spam):\n",
    "    if spam:\n",
    "        return (SpamWord.get(word,0)+1)/(float)(SpamWordTotal + (1*(SpamWordTotal + HamWordTotal)))\n",
    "    return (HamWord.get(word,0)+1)/(float)(HamWordTotal + (1*(SpamWordTotal + HamWordTotal)))\n",
    "\n",
    "\n",
    "\n",
    "train()\n",
    "\n",
    "\n",
    "correct = 0\n",
    "for i in x_test.index:\n",
    "    if (classify(x_test[i]) == True) and (y_test[i] == 1):\n",
    "        correct +=1\n",
    "    if (classify(x_test[i]) == False) and (y_test[i] == 0):\n",
    "        correct +=1\n",
    "        \n",
    "Accuracy = (correct/y_test.size) * 100\n",
    "print(\"Accuracy = \", Accuracy)"
   ]
  },
  {
   "cell_type": "code",
   "execution_count": null,
   "metadata": {},
   "outputs": [],
   "source": []
  }
 ],
 "metadata": {
  "kernelspec": {
   "display_name": "Python 3",
   "language": "python",
   "name": "python3"
  },
  "language_info": {
   "codemirror_mode": {
    "name": "ipython",
    "version": 3
   },
   "file_extension": ".py",
   "mimetype": "text/x-python",
   "name": "python",
   "nbconvert_exporter": "python",
   "pygments_lexer": "ipython3",
   "version": "3.7.1"
  }
 },
 "nbformat": 4,
 "nbformat_minor": 2
}
