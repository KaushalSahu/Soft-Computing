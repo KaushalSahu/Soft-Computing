{
 "cells": [
  {
   "cell_type": "code",
   "execution_count": 90,
   "metadata": {},
   "outputs": [],
   "source": [
    "import pandas as pd\n",
    "import numpy as np\n",
    "from sklearn.feature_extraction.text import CountVectorizer\n",
    "from sklearn.model_selection import train_test_split\n",
    "from collections import Counter\n",
    "\n",
    "mails = pd.read_csv(\"spam.csv\",encoding='latin-1',header=0,names=[\"labels\",\"message\"],usecols=[\"labels\",\"message\"])\n",
    "mails[\"labels\"]=mails[\"labels\"].replace(\"ham\",0)\n",
    "mails[\"labels\"]=mails[\"labels\"].replace(\"spam\",1)\n",
    "\n",
    "X = mails[\"message\"]\n",
    "Y = mails[\"labels\"]"
   ]
  },
  {
   "cell_type": "code",
   "execution_count": 91,
   "metadata": {},
   "outputs": [],
   "source": [
    "x_train,x_test,y_train,y_test=train_test_split(X,Y,random_state=50,test_size=.3)"
   ]
  },
  {
   "cell_type": "code",
   "execution_count": 92,
   "metadata": {},
   "outputs": [],
   "source": [
    "vectorizer = CountVectorizer()\n",
    "counts = vectorizer.fit_transform(X.values)\n",
    "\n",
    "target = y_train.values\n",
    "#print(counts)"
   ]
  },
  {
   "cell_type": "code",
   "execution_count": 93,
   "metadata": {},
   "outputs": [],
   "source": [
    "c = Counter(Y)\n",
    "numHam = c[0]\n",
    "numSpam = c[1]"
   ]
  },
  {
   "cell_type": "code",
   "execution_count": 99,
   "metadata": {},
   "outputs": [
    {
     "name": "stdout",
     "output_type": "stream",
     "text": [
      "0.13406317300789664\n",
      "0.8659368269921034\n"
     ]
    }
   ],
   "source": [
    "def train():\n",
    "    for email in x_train:\n",
    "        processEmail(email.message , email.labels)\n",
    "    pSpam = numSpam/Y.size\n",
    "    pHam = numHam/Y.size\n",
    "    \n",
    "\n",
    "def processEmail(message , labels):\n",
    "    for word in message:\n",
    "        if labels == 1:\n",
    "            SpamWord[word] = SpamWord.get(word, 0) + 1\n",
    "            SpamWordTotal += 1\n",
    "        else:\n",
    "            HamWord[word] = HamWord.get(word, 0) + 1\n",
    "            HamWordTotal += 1\n",
    "            \n",
    "\n",
    "def conditionalEmail(message , spam):\n",
    "    result = 1.0\n",
    "    for word in body:\n",
    "        result *= conditionalWord(message, spam)\n",
    "    return result\n",
    "\n",
    "\n",
    "def classify(email):\n",
    "    isSpam = pA * conditionalEmail(email, True) \n",
    "    notSpam = pNotA * conditionalEmail(email, False) \n",
    "    return isSpam > notSpam\n",
    "\n",
    "\n",
    "def conditionalWord(word, spam):\n",
    "    if spam:\n",
    "        return (SpamWord.get(word,0)+1)/(SpamWordTotal+1*(SpamWordTotal+HamWordTotal))\n",
    "    return (HamWord.get(word,0)+1)/(HamWordTotal+1*(SpamWordTotal+HamWordTotal))\n",
    "\n",
    "print(pSpam)\n",
    "print(pHam)"
   ]
  },
  {
   "cell_type": "code",
   "execution_count": null,
   "metadata": {},
   "outputs": [],
   "source": []
  }
 ],
 "metadata": {
  "kernelspec": {
   "display_name": "Python 3",
   "language": "python",
   "name": "python3"
  },
  "language_info": {
   "codemirror_mode": {
    "name": "ipython",
    "version": 3
   },
   "file_extension": ".py",
   "mimetype": "text/x-python",
   "name": "python",
   "nbconvert_exporter": "python",
   "pygments_lexer": "ipython3",
   "version": "3.7.1"
  }
 },
 "nbformat": 4,
 "nbformat_minor": 2
}
