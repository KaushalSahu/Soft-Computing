{
 "cells": [
  {
   "cell_type": "code",
   "execution_count": 1,
   "metadata": {},
   "outputs": [
    {
     "data": {
      "text/plain": [
       "'plt.imshow(rband)\\nplt.show()\\nplt.imshow(gband)\\nplt.show()\\nplt.imshow(bband)\\nplt.show()\\nplt.imshow(iband)\\nplt.show()'"
      ]
     },
     "execution_count": 1,
     "metadata": {},
     "output_type": "execute_result"
    }
   ],
   "source": [
    "import pandas as pd\n",
    "import numpy as np\n",
    "import matplotlib.image as mpimg \n",
    "import matplotlib.pyplot as plt\n",
    "import imageio\n",
    "from skimage.io import imshow,imread\n",
    "\n",
    "rband = imageio.imread('images/1.gif')\n",
    "gband = imageio.imread('images/2.gif')\n",
    "bband = imageio.imread('images/3.gif')\n",
    "iband = imageio.imread('images/4.gif')\n",
    "\n",
    "\n",
    "#pixr = np.array(rband)\n",
    "#pixg = np.array(gband)\n",
    "#pixb = np.array(bband)\n",
    "#pixi = np.array(iband)\n",
    "\n",
    "river = pd.read_csv(\"r.txt\", header = None)\n",
    "nonriver = pd.read_csv(\"nr.txt\", header = None)\n",
    "\n",
    "Xr = river.iloc[:,0:1].values\n",
    "Yr = river.iloc[:,1:2].values\n",
    "\n",
    "Xnr = nonriver.iloc[:,0:1].values\n",
    "Ynr = nonriver.iloc[:,1:2].values\n",
    "\n",
    "\n",
    "#print(xr)\n",
    "'''plt.imshow(rband)\n",
    "plt.show()\n",
    "plt.imshow(gband)\n",
    "plt.show()\n",
    "plt.imshow(bband)\n",
    "plt.show()\n",
    "plt.imshow(iband)\n",
    "plt.show()'''"
   ]
  },
  {
   "cell_type": "code",
   "execution_count": 2,
   "metadata": {},
   "outputs": [
    {
     "name": "stdout",
     "output_type": "stream",
     "text": [
      "[[41.8  27.16 28.68 34.64]]\n"
     ]
    }
   ],
   "source": [
    "# Step 1\n",
    "\n",
    "Rr = []\n",
    "Gr = []\n",
    "Br = []\n",
    "Ir = []\n",
    "\n",
    "for i in range(Xr.size):\n",
    "    Rr.append(rband[Xr[i], Yr[i]])\n",
    "    Gr.append(gband[Xr[i], Yr[i]])\n",
    "    Br.append(bband[Xr[i], Yr[i]])\n",
    "    Ir.append(iband[Xr[i], Yr[i]])\n",
    "    \n",
    "Rr = np.matrix(Rr)\n",
    "Gr = np.matrix(Gr)\n",
    "Br = np.matrix(Br)\n",
    "Ir = np.matrix(Ir)\n",
    "    \n",
    "river_mean = [np.mean(Rr), np.mean(Gr), np.mean(Br), np.mean(Ir)]\n",
    "river_mean = np.matrix(river_mean)\n",
    "print(river_mean)"
   ]
  },
  {
   "cell_type": "code",
   "execution_count": 3,
   "metadata": {},
   "outputs": [
    {
     "name": "stdout",
     "output_type": "stream",
     "text": [
      "[[40.32 25.75 26.3  35.26]]\n"
     ]
    }
   ],
   "source": [
    "#Step 2\n",
    "\n",
    "Rnr = []\n",
    "Gnr = []\n",
    "Bnr = []\n",
    "Inr = []\n",
    "\n",
    "for i in range(Xnr.size):\n",
    "    Rnr.append(rband[Xnr[i], Ynr[i]])\n",
    "    Gnr.append(gband[Xnr[i], Ynr[i]])\n",
    "    Bnr.append(bband[Xnr[i], Ynr[i]])\n",
    "    Inr.append(iband[Xnr[i], Ynr[i]])\n",
    "    \n",
    "#print(Rnr)\n",
    "Rnr = np.matrix(Rnr)\n",
    "Gnr = np.matrix(Gnr)\n",
    "Bnr = np.matrix(Bnr)\n",
    "Inr = np.matrix(Inr)\n",
    "#print(Rnr)\n",
    "    \n",
    "nonriver_mean = [np.mean(Rnr), np.mean(Gnr), np.mean(Bnr), np.mean(Inr)]\n",
    "nonriver_mean = np.matrix(nonriver_mean)\n",
    "print((nonriver_mean))"
   ]
  },
  {
   "cell_type": "code",
   "execution_count": 4,
   "metadata": {},
   "outputs": [],
   "source": [
    "# Covariance function\n",
    "def cal_cov(x, y):\n",
    "    x_mean = np.mean(x)\n",
    "    y_mean = np.mean(y)\n",
    "    \n",
    "    s = []\n",
    "    n = len(x)\n",
    "    for i in range(n):\n",
    "        temp1 = x[i] - x_mean\n",
    "        temp2 = y[i] - y_mean\n",
    "        s.append(temp1 * temp2)\n",
    "        \n",
    "    s = np.sum(s)\n",
    "    s = s / (n-1)\n",
    "    \n",
    "    return s "
   ]
  },
  {
   "cell_type": "code",
   "execution_count": 5,
   "metadata": {},
   "outputs": [],
   "source": [
    "#step 3\n",
    "\n",
    "river_cov = [[cal_cov(Rr, Rr), cal_cov(Rr, Gr), cal_cov(Rr, Br), cal_cov(Rr, Ir)],\n",
    "             [cal_cov(Gr, Rr), cal_cov(Gr, Gr), cal_cov(Gr, Br), cal_cov(Gr, Ir)],\n",
    "             [cal_cov(Br, Rr), cal_cov(Br, Gr), cal_cov(Br, Br), cal_cov(Br, Ir)],\n",
    "             [cal_cov(Ir, Rr), cal_cov(Ir, Gr), cal_cov(Ir, Br), cal_cov(Ir, Ir)]]\n",
    "\n",
    "river_cov = np.matrix(river_cov)\n",
    "#print(river_cov)"
   ]
  },
  {
   "cell_type": "code",
   "execution_count": 6,
   "metadata": {},
   "outputs": [],
   "source": [
    "#step 4\n",
    "\n",
    "nonriver_cov = [[cal_cov(Rnr, Rnr), cal_cov(Rnr, Gnr), cal_cov(Rnr, Bnr), cal_cov(Rnr, Inr)],\n",
    "             [cal_cov(Gnr, Rnr), cal_cov(Gnr, Gnr), cal_cov(Gnr, Bnr), cal_cov(Gnr, Inr)],\n",
    "             [cal_cov(Bnr, Rnr), cal_cov(Bnr, Gnr), cal_cov(Bnr, Bnr), cal_cov(Bnr, Inr)],\n",
    "             [cal_cov(Inr, Rnr), cal_cov(Inr, Gnr), cal_cov(Inr, Bnr), cal_cov(Inr, Inr)]]\n",
    "\n",
    "nonriver_cov = np.matrix(river_cov)\n",
    "#print(nonriver_cov)"
   ]
  },
  {
   "cell_type": "code",
   "execution_count": 7,
   "metadata": {},
   "outputs": [],
   "source": [
    "#step 5, 6\n",
    "\n",
    "#pixr = np.array(rband)\n",
    "#pixg = np.array(gband)\n",
    "#pixb = np.array(bband)\n",
    "#pixi = np.array(iband)\n"
   ]
  },
  {
   "cell_type": "code",
   "execution_count": 15,
   "metadata": {},
   "outputs": [
    {
     "data": {
      "image/png": "[encoded data removed]",
      "text/plain": [
       "<Figure size 432x288 with 1 Axes>"
      ]
     },
     "metadata": {
      "needs_background": "light"
     },
     "output_type": "display_data"
    }
   ],
   "source": [
    "#step 7\n",
    "\n",
    "out = []\n",
    "P1 = 0.8\n",
    "P2 = 0.2\n",
    "\n",
    "for i in range(512):\n",
    "    temp = []\n",
    "    for j in range(512):\n",
    "        test = [rband[i, j], gband[i, j], bband[i, j], iband[i, j]]\n",
    "        test = np.matrix(test)\n",
    "        \n",
    "        test_r = test - river_mean\n",
    "        test_nr = test - nonriver_mean\n",
    "        \n",
    "        \n",
    "        river_cov_I = np.linalg.inv(river_cov)\n",
    "        nonriver_cov_I = np.linalg.inv(nonriver_cov)\n",
    "        \n",
    "        #step 8\n",
    "        river_class = test_r * river_cov_I * test_r.T\n",
    "        #step 9\n",
    "        nonriver_class = test_nr * nonriver_cov_I * test_nr.T\n",
    "        \n",
    "        det_river_cov = np.linalg.det(river_cov)\n",
    "        det_nonriver_cov = np.linalg.det(nonriver_cov)\n",
    "        sqrt_det_river = np.sqrt(det_river_cov)\n",
    "        sqrt_det_nonriver = np.sqrt(det_nonriver_cov)\n",
    "        \n",
    "        #step 10\n",
    "        p1 = (-0.5) * 1 / sqrt_det_river * np.exp(river_class)\n",
    "        #step 11\n",
    "        p2 = (-0.5) * 1 / sqrt_det_nonriver * np.exp(nonriver_class)\n",
    "        \n",
    "        #step 12\n",
    "        if ((P1 * p1) >= (P2 * p2)):\n",
    "            temp.append(255)\n",
    "        else:\n",
    "            temp.append(0)\n",
    "    out.append(temp)\n",
    "\n",
    "result = np.uint8(np.array(out))\n",
    "imageio.imwrite('images/result.jpeg',output[:,:])\n",
    "plt.imshow(output)\n",
    "plt.show()"
   ]
  },
  {
   "cell_type": "code",
   "execution_count": null,
   "metadata": {},
   "outputs": [],
   "source": []
  }
 ],
 "metadata": {
  "kernelspec": {
   "display_name": "Python 3",
   "language": "python",
   "name": "python3"
  },
  "language_info": {
   "codemirror_mode": {
    "name": "ipython",
    "version": 3
   },
   "file_extension": ".py",
   "mimetype": "text/x-python",
   "name": "python",
   "nbconvert_exporter": "python",
   "pygments_lexer": "ipython3",
   "version": "3.7.1"
  }
 },
 "nbformat": 4,
 "nbformat_minor": 2
}
